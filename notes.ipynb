{
 "cells": [
  {
   "cell_type": "markdown",
   "metadata": {},
   "source": [
    "- Lujain: Have fun and remember you need to go through all the ML steps of  EDA and understanding your target, Feature and Target Engineering, Train Test Split, Feature extraction, Algorithms, Gridsearch Hyperparameters, Cross Validation, Model Evaluation and Selection… etc\n",
    "\n",
    "Target: Estimate sale price\n",
    "\n",
    "Duties: \n",
    "- Feature & Target Enginnering: Drop null values (details) The whole column as it is not needed in our estimation.\n",
    "- Make a code that looks for values in details column and if values >10k multiply x12\n",
    "- Find: H_data[\"شهري\" in H_data.details]\n",
    "- Data splitting\n",
    "- GridSearch (to look for features that have the most influence on the model/data)\n",
    "- Building the model\n",
    "- Cross Validation\n",
    "- Model evaluation, such as Measure accuracy between train & test data\n",
    "- Model selection\n",
    "\n"
   ]
  },
  {
   "cell_type": "code",
   "execution_count": null,
   "metadata": {},
   "outputs": [],
   "source": []
  }
 ],
 "metadata": {
  "language_info": {
   "name": "python"
  },
  "orig_nbformat": 4
 },
 "nbformat": 4,
 "nbformat_minor": 2
}
