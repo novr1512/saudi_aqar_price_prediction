{
 "cells": [
  {
   "cell_type": "markdown",
   "metadata": {},
   "source": [
    "### Step1: Prerequest Libraries"
   ]
  },
  {
   "cell_type": "code",
   "execution_count": 295,
   "metadata": {},
   "outputs": [],
   "source": [
    "%%capture\n",
    "\n",
    "# data management\n",
    "! pip install -U pandas\n",
    "! pip install -U numpy\n",
    "\n",
    "# data visualization\n",
    "! pip install -U matplotlib\n",
    "! pip install -U plotnine\n",
    "\n",
    "# modeling\n",
    "! pip install -U scikit-learn"
   ]
  },
  {
   "cell_type": "code",
   "execution_count": 296,
   "metadata": {},
   "outputs": [
    {
     "data": {
      "text/plain": [
       "'1.0.2'"
      ]
     },
     "execution_count": 296,
     "metadata": {},
     "output_type": "execute_result"
    }
   ],
   "source": [
    "import pandas as pd\n",
    "import sklearn\n",
    "sklearn.__version__"
   ]
  },
  {
   "cell_type": "code",
   "execution_count": 297,
   "metadata": {},
   "outputs": [],
   "source": [
    "# Helper packages\n",
    "import numpy as np\n",
    "import pandas as pd\n",
    "import math\n",
    "from plotnine import ggplot, aes, geom_density, geom_line, geom_point, ggtitle\n",
    "\n",
    "# Modeling process\n",
    "from sklearn.model_selection import train_test_split, KFold, RepeatedKFold, cross_val_score\n",
    "from sklearn.model_selection import GridSearchCV\n",
    "from sklearn.neighbors import KNeighborsRegressor, KNeighborsClassifier\n",
    "from sklearn.metrics import mean_squared_error, roc_auc_score\n",
    "from sklearn.model_selection import train_test_split\n",
    "from sklearn import preprocessing\n",
    "from sklearn import compose\n",
    "from sklearn import cross_decomposition\n",
    "from sklearn import decomposition\n",
    "from sklearn import model_selection\n",
    "from sklearn import linear_model\n",
    "from sklearn import pipeline"
   ]
  },
  {
   "cell_type": "markdown",
   "metadata": {},
   "source": [
    "---\n",
    "\n",
    "### Step2: Read Dataset\n",
    "| Reading .CSV file from local directory |"
   ]
  },
  {
   "cell_type": "code",
   "execution_count": 298,
   "metadata": {},
   "outputs": [
    {
     "data": {
      "text/html": [
       "<div>\n",
       "<style scoped>\n",
       "    .dataframe tbody tr th:only-of-type {\n",
       "        vertical-align: middle;\n",
       "    }\n",
       "\n",
       "    .dataframe tbody tr th {\n",
       "        vertical-align: top;\n",
       "    }\n",
       "\n",
       "    .dataframe thead th {\n",
       "        text-align: right;\n",
       "    }\n",
       "</style>\n",
       "<table border=\"1\" class=\"dataframe\">\n",
       "  <thead>\n",
       "    <tr style=\"text-align: right;\">\n",
       "      <th></th>\n",
       "      <th>Unnamed: 0</th>\n",
       "      <th>city</th>\n",
       "      <th>district</th>\n",
       "      <th>front</th>\n",
       "      <th>size</th>\n",
       "      <th>property_age</th>\n",
       "      <th>bedrooms</th>\n",
       "      <th>bathrooms</th>\n",
       "      <th>livingrooms</th>\n",
       "      <th>kitchen</th>\n",
       "      <th>...</th>\n",
       "      <th>roof</th>\n",
       "      <th>pool</th>\n",
       "      <th>frontyard</th>\n",
       "      <th>basement</th>\n",
       "      <th>duplex</th>\n",
       "      <th>stairs</th>\n",
       "      <th>elevator</th>\n",
       "      <th>fireplace</th>\n",
       "      <th>price</th>\n",
       "      <th>details</th>\n",
       "    </tr>\n",
       "  </thead>\n",
       "  <tbody>\n",
       "    <tr>\n",
       "      <th>0</th>\n",
       "      <td>521</td>\n",
       "      <td>الرياض</td>\n",
       "      <td>حي الجنادرية</td>\n",
       "      <td>شرق</td>\n",
       "      <td>246</td>\n",
       "      <td>0</td>\n",
       "      <td>5</td>\n",
       "      <td>5</td>\n",
       "      <td>2</td>\n",
       "      <td>1</td>\n",
       "      <td>...</td>\n",
       "      <td>0</td>\n",
       "      <td>0</td>\n",
       "      <td>0</td>\n",
       "      <td>0</td>\n",
       "      <td>0</td>\n",
       "      <td>1</td>\n",
       "      <td>0</td>\n",
       "      <td>0</td>\n",
       "      <td>40000</td>\n",
       "      <td>درج داخلي للايجار التوالصل 0538143083</td>\n",
       "    </tr>\n",
       "    <tr>\n",
       "      <th>1</th>\n",
       "      <td>1653</td>\n",
       "      <td>جدة</td>\n",
       "      <td>حي بريمان</td>\n",
       "      <td>جنوب</td>\n",
       "      <td>350</td>\n",
       "      <td>0</td>\n",
       "      <td>7</td>\n",
       "      <td>5</td>\n",
       "      <td>2</td>\n",
       "      <td>1</td>\n",
       "      <td>...</td>\n",
       "      <td>1</td>\n",
       "      <td>0</td>\n",
       "      <td>0</td>\n",
       "      <td>0</td>\n",
       "      <td>1</td>\n",
       "      <td>1</td>\n",
       "      <td>1</td>\n",
       "      <td>0</td>\n",
       "      <td>45000</td>\n",
       "      <td>فلة روف مكونه من٩غرف و٧حمامات وسطح مرة كبير ون...</td>\n",
       "    </tr>\n",
       "    <tr>\n",
       "      <th>2</th>\n",
       "      <td>131</td>\n",
       "      <td>الرياض</td>\n",
       "      <td>حي الرمال</td>\n",
       "      <td>جنوب</td>\n",
       "      <td>280</td>\n",
       "      <td>3</td>\n",
       "      <td>4</td>\n",
       "      <td>3</td>\n",
       "      <td>1</td>\n",
       "      <td>0</td>\n",
       "      <td>...</td>\n",
       "      <td>0</td>\n",
       "      <td>0</td>\n",
       "      <td>1</td>\n",
       "      <td>0</td>\n",
       "      <td>0</td>\n",
       "      <td>1</td>\n",
       "      <td>0</td>\n",
       "      <td>1</td>\n",
       "      <td>3300</td>\n",
       "      <td>درج داخلي للأيجار  شهري3300\\nالمواصفات \\nالأرض...</td>\n",
       "    </tr>\n",
       "    <tr>\n",
       "      <th>3</th>\n",
       "      <td>2284</td>\n",
       "      <td>الدمام</td>\n",
       "      <td>حي ضاحية الملك فهد</td>\n",
       "      <td>شمال</td>\n",
       "      <td>250</td>\n",
       "      <td>5</td>\n",
       "      <td>5</td>\n",
       "      <td>5</td>\n",
       "      <td>3</td>\n",
       "      <td>1</td>\n",
       "      <td>...</td>\n",
       "      <td>1</td>\n",
       "      <td>0</td>\n",
       "      <td>1</td>\n",
       "      <td>0</td>\n",
       "      <td>0</td>\n",
       "      <td>1</td>\n",
       "      <td>0</td>\n",
       "      <td>0</td>\n",
       "      <td>36000</td>\n",
       "      <td>للايجار فيلا دبلكس دورين وملحق في ضاحيه الملك ...</td>\n",
       "    </tr>\n",
       "    <tr>\n",
       "      <th>4</th>\n",
       "      <td>65</td>\n",
       "      <td>الرياض</td>\n",
       "      <td>حي الروضة</td>\n",
       "      <td>جنوب</td>\n",
       "      <td>352</td>\n",
       "      <td>30</td>\n",
       "      <td>7</td>\n",
       "      <td>5</td>\n",
       "      <td>2</td>\n",
       "      <td>1</td>\n",
       "      <td>...</td>\n",
       "      <td>1</td>\n",
       "      <td>0</td>\n",
       "      <td>1</td>\n",
       "      <td>0</td>\n",
       "      <td>0</td>\n",
       "      <td>1</td>\n",
       "      <td>0</td>\n",
       "      <td>1</td>\n",
       "      <td>80000</td>\n",
       "      <td>الجزء الثالث والاخير للتصوير\\n================...</td>\n",
       "    </tr>\n",
       "  </tbody>\n",
       "</table>\n",
       "<p>5 rows × 25 columns</p>\n",
       "</div>"
      ],
      "text/plain": [
       "   Unnamed: 0     city                district front  size  property_age  \\\n",
       "0         521   الرياض           حي الجنادرية    شرق   246             0   \n",
       "1        1653      جدة              حي بريمان   جنوب   350             0   \n",
       "2         131   الرياض              حي الرمال   جنوب   280             3   \n",
       "3        2284   الدمام     حي ضاحية الملك فهد   شمال   250             5   \n",
       "4          65   الرياض              حي الروضة   جنوب   352            30   \n",
       "\n",
       "   bedrooms  bathrooms  livingrooms  kitchen  ...  roof  pool  frontyard  \\\n",
       "0         5          5            2        1  ...     0     0          0   \n",
       "1         7          5            2        1  ...     1     0          0   \n",
       "2         4          3            1        0  ...     0     0          1   \n",
       "3         5          5            3        1  ...     1     0          1   \n",
       "4         7          5            2        1  ...     1     0          1   \n",
       "\n",
       "   basement  duplex  stairs  elevator  fireplace  price  \\\n",
       "0         0       0       1         0          0  40000   \n",
       "1         0       1       1         1          0  45000   \n",
       "2         0       0       1         0          1   3300   \n",
       "3         0       0       1         0          0  36000   \n",
       "4         0       0       1         0          1  80000   \n",
       "\n",
       "                                             details  \n",
       "0              درج داخلي للايجار التوالصل 0538143083  \n",
       "1  فلة روف مكونه من٩غرف و٧حمامات وسطح مرة كبير ون...  \n",
       "2  درج داخلي للأيجار  شهري3300\\nالمواصفات \\nالأرض...  \n",
       "3  للايجار فيلا دبلكس دورين وملحق في ضاحيه الملك ...  \n",
       "4  الجزء الثالث والاخير للتصوير\\n================...  \n",
       "\n",
       "[5 rows x 25 columns]"
      ]
     },
     "execution_count": 298,
     "metadata": {},
     "output_type": "execute_result"
    }
   ],
   "source": [
    "H_data = pd.read_csv('/Users/awatefalshehri/Misk_DSI_2021/AA_ML_assignment/saudi_aqar_price_prediction/housing.csv')\n",
    "\n",
    "# Initial dimensions\n",
    "H_data.shape\n",
    "\n",
    "H_data.head()"
   ]
  },
  {
   "cell_type": "markdown",
   "metadata": {},
   "source": [
    "---\n",
    "### Step3: Clean the data"
   ]
  },
  {
   "cell_type": "code",
   "execution_count": 299,
   "metadata": {},
   "outputs": [],
   "source": [
    "def fixRent(details):\n",
    "    details =  str(details)\n",
    "    rent = \"Unkown\"\n",
    "    if( details.find('شهري') != -1 or details.find('بالشهر') != -1):\n",
    "        rent = 'Monthly'\n",
    "    elif( details.find('يومي') != -1 or details.find('باليوم') != -1 ):\n",
    "        rent = 'Daily'\n",
    "    else:\n",
    "        rent = 'Unkown'\n",
    "        \n",
    "    return rent\n",
    "\n",
    "H_data.loc[:,'rent frequnetly'] = H_data.loc[:,'details'].apply(fixRent)"
   ]
  },
  {
   "cell_type": "code",
   "execution_count": 300,
   "metadata": {},
   "outputs": [
    {
     "data": {
      "text/html": [
       "<div>\n",
       "<style scoped>\n",
       "    .dataframe tbody tr th:only-of-type {\n",
       "        vertical-align: middle;\n",
       "    }\n",
       "\n",
       "    .dataframe tbody tr th {\n",
       "        vertical-align: top;\n",
       "    }\n",
       "\n",
       "    .dataframe thead th {\n",
       "        text-align: right;\n",
       "    }\n",
       "</style>\n",
       "<table border=\"1\" class=\"dataframe\">\n",
       "  <thead>\n",
       "    <tr style=\"text-align: right;\">\n",
       "      <th></th>\n",
       "      <th>price</th>\n",
       "      <th>details</th>\n",
       "      <th>rent frequnetly</th>\n",
       "    </tr>\n",
       "  </thead>\n",
       "  <tbody>\n",
       "    <tr>\n",
       "      <th>0</th>\n",
       "      <td>40000</td>\n",
       "      <td>درج داخلي للايجار التوالصل 0538143083</td>\n",
       "      <td>Unkown</td>\n",
       "    </tr>\n",
       "    <tr>\n",
       "      <th>1</th>\n",
       "      <td>45000</td>\n",
       "      <td>فلة روف مكونه من٩غرف و٧حمامات وسطح مرة كبير ون...</td>\n",
       "      <td>Unkown</td>\n",
       "    </tr>\n",
       "    <tr>\n",
       "      <th>2</th>\n",
       "      <td>3300</td>\n",
       "      <td>درج داخلي للأيجار  شهري3300\\nالمواصفات \\nالأرض...</td>\n",
       "      <td>Monthly</td>\n",
       "    </tr>\n",
       "    <tr>\n",
       "      <th>3</th>\n",
       "      <td>36000</td>\n",
       "      <td>للايجار فيلا دبلكس دورين وملحق في ضاحيه الملك ...</td>\n",
       "      <td>Unkown</td>\n",
       "    </tr>\n",
       "    <tr>\n",
       "      <th>4</th>\n",
       "      <td>80000</td>\n",
       "      <td>الجزء الثالث والاخير للتصوير\\n================...</td>\n",
       "      <td>Unkown</td>\n",
       "    </tr>\n",
       "    <tr>\n",
       "      <th>...</th>\n",
       "      <td>...</td>\n",
       "      <td>...</td>\n",
       "      <td>...</td>\n",
       "    </tr>\n",
       "    <tr>\n",
       "      <th>2969</th>\n",
       "      <td>33000</td>\n",
       "      <td>دبلكس الاجار جديد ثلاثه ادوار الحي السابع كل ٦...</td>\n",
       "      <td>Unkown</td>\n",
       "    </tr>\n",
       "    <tr>\n",
       "      <th>2970</th>\n",
       "      <td>50000</td>\n",
       "      <td>فيلا دورين درج داخلي مجددة</td>\n",
       "      <td>Unkown</td>\n",
       "    </tr>\n",
       "    <tr>\n",
       "      <th>2971</th>\n",
       "      <td>37000</td>\n",
       "      <td>فلا للايجار فى الحي الخامس التاسع \\nتتكون ثلاث...</td>\n",
       "      <td>Unkown</td>\n",
       "    </tr>\n",
       "    <tr>\n",
       "      <th>2972</th>\n",
       "      <td>35000</td>\n",
       "      <td>فيلا للإيجار على زاوية\\nمطبخ راكب \\n٤ غرف نوم ...</td>\n",
       "      <td>Monthly</td>\n",
       "    </tr>\n",
       "    <tr>\n",
       "      <th>2973</th>\n",
       "      <td>80000</td>\n",
       "      <td>نظيفة للغاية ومجددة</td>\n",
       "      <td>Unkown</td>\n",
       "    </tr>\n",
       "  </tbody>\n",
       "</table>\n",
       "<p>2974 rows × 3 columns</p>\n",
       "</div>"
      ],
      "text/plain": [
       "      price                                            details rent frequnetly\n",
       "0     40000              درج داخلي للايجار التوالصل 0538143083          Unkown\n",
       "1     45000  فلة روف مكونه من٩غرف و٧حمامات وسطح مرة كبير ون...          Unkown\n",
       "2      3300  درج داخلي للأيجار  شهري3300\\nالمواصفات \\nالأرض...         Monthly\n",
       "3     36000  للايجار فيلا دبلكس دورين وملحق في ضاحيه الملك ...          Unkown\n",
       "4     80000  الجزء الثالث والاخير للتصوير\\n================...          Unkown\n",
       "...     ...                                                ...             ...\n",
       "2969  33000  دبلكس الاجار جديد ثلاثه ادوار الحي السابع كل ٦...          Unkown\n",
       "2970  50000                         فيلا دورين درج داخلي مجددة          Unkown\n",
       "2971  37000  فلا للايجار فى الحي الخامس التاسع \\nتتكون ثلاث...          Unkown\n",
       "2972  35000  فيلا للإيجار على زاوية\\nمطبخ راكب \\n٤ غرف نوم ...         Monthly\n",
       "2973  80000                                نظيفة للغاية ومجددة          Unkown\n",
       "\n",
       "[2974 rows x 3 columns]"
      ]
     },
     "execution_count": 300,
     "metadata": {},
     "output_type": "execute_result"
    }
   ],
   "source": [
    "H_data.loc[:,['price',\"details\",'rent frequnetly']]"
   ]
  },
  {
   "cell_type": "code",
   "execution_count": 301,
   "metadata": {},
   "outputs": [
    {
     "data": {
      "text/plain": [
       "rent frequnetly\n",
       "Daily         3\n",
       "Monthly      54\n",
       "Unkown     2917\n",
       "dtype: int64"
      ]
     },
     "execution_count": 301,
     "metadata": {},
     "output_type": "execute_result"
    }
   ],
   "source": [
    "H_data.groupby(['rent frequnetly']).size()"
   ]
  },
  {
   "cell_type": "code",
   "execution_count": 302,
   "metadata": {},
   "outputs": [
    {
     "data": {
      "text/html": [
       "<div>\n",
       "<style scoped>\n",
       "    .dataframe tbody tr th:only-of-type {\n",
       "        vertical-align: middle;\n",
       "    }\n",
       "\n",
       "    .dataframe tbody tr th {\n",
       "        vertical-align: top;\n",
       "    }\n",
       "\n",
       "    .dataframe thead th {\n",
       "        text-align: right;\n",
       "    }\n",
       "</style>\n",
       "<table border=\"1\" class=\"dataframe\">\n",
       "  <thead>\n",
       "    <tr style=\"text-align: right;\">\n",
       "      <th></th>\n",
       "      <th>Unnamed: 0</th>\n",
       "      <th>city</th>\n",
       "      <th>district</th>\n",
       "      <th>front</th>\n",
       "      <th>size</th>\n",
       "      <th>property_age</th>\n",
       "      <th>bedrooms</th>\n",
       "      <th>bathrooms</th>\n",
       "      <th>livingrooms</th>\n",
       "      <th>kitchen</th>\n",
       "      <th>...</th>\n",
       "      <th>pool</th>\n",
       "      <th>frontyard</th>\n",
       "      <th>basement</th>\n",
       "      <th>duplex</th>\n",
       "      <th>stairs</th>\n",
       "      <th>elevator</th>\n",
       "      <th>fireplace</th>\n",
       "      <th>price</th>\n",
       "      <th>details</th>\n",
       "      <th>rent frequnetly</th>\n",
       "    </tr>\n",
       "  </thead>\n",
       "  <tbody>\n",
       "    <tr>\n",
       "      <th>363</th>\n",
       "      <td>1100</td>\n",
       "      <td>جدة</td>\n",
       "      <td>حي الزمرد</td>\n",
       "      <td>شمال</td>\n",
       "      <td>350</td>\n",
       "      <td>0</td>\n",
       "      <td>4</td>\n",
       "      <td>4</td>\n",
       "      <td>1</td>\n",
       "      <td>1</td>\n",
       "      <td>...</td>\n",
       "      <td>1</td>\n",
       "      <td>1</td>\n",
       "      <td>0</td>\n",
       "      <td>0</td>\n",
       "      <td>1</td>\n",
       "      <td>0</td>\n",
       "      <td>0</td>\n",
       "      <td>3000</td>\n",
       "      <td>فيلا دورين مكونة من 4 غرف نوم و 4 دورات مياه و...</td>\n",
       "      <td>Daily</td>\n",
       "    </tr>\n",
       "    <tr>\n",
       "      <th>1279</th>\n",
       "      <td>1225</td>\n",
       "      <td>جدة</td>\n",
       "      <td>حي الشاطئ</td>\n",
       "      <td>غرب</td>\n",
       "      <td>350</td>\n",
       "      <td>2</td>\n",
       "      <td>3</td>\n",
       "      <td>4</td>\n",
       "      <td>2</td>\n",
       "      <td>1</td>\n",
       "      <td>...</td>\n",
       "      <td>1</td>\n",
       "      <td>1</td>\n",
       "      <td>0</td>\n",
       "      <td>1</td>\n",
       "      <td>1</td>\n",
       "      <td>0</td>\n",
       "      <td>0</td>\n",
       "      <td>2500</td>\n",
       "      <td>فيلا مؤثثه نظيفه جدا للايجار اليومي \\nبالسعر ا...</td>\n",
       "      <td>Daily</td>\n",
       "    </tr>\n",
       "    <tr>\n",
       "      <th>2411</th>\n",
       "      <td>1192</td>\n",
       "      <td>جدة</td>\n",
       "      <td>حي الزمرد</td>\n",
       "      <td>جنوب</td>\n",
       "      <td>550</td>\n",
       "      <td>7</td>\n",
       "      <td>4</td>\n",
       "      <td>4</td>\n",
       "      <td>3</td>\n",
       "      <td>1</td>\n",
       "      <td>...</td>\n",
       "      <td>1</td>\n",
       "      <td>1</td>\n",
       "      <td>0</td>\n",
       "      <td>1</td>\n",
       "      <td>0</td>\n",
       "      <td>0</td>\n",
       "      <td>1</td>\n",
       "      <td>2000</td>\n",
       "      <td>فيلا للايجار اليومي بخصوصية تامه</td>\n",
       "      <td>Daily</td>\n",
       "    </tr>\n",
       "  </tbody>\n",
       "</table>\n",
       "<p>3 rows × 26 columns</p>\n",
       "</div>"
      ],
      "text/plain": [
       "      Unnamed: 0  city       district front  size  property_age  bedrooms  \\\n",
       "363         1100   جدة     حي الزمرد   شمال   350             0         4   \n",
       "1279        1225   جدة     حي الشاطئ    غرب   350             2         3   \n",
       "2411        1192   جدة     حي الزمرد   جنوب   550             7         4   \n",
       "\n",
       "      bathrooms  livingrooms  kitchen  ...  pool  frontyard  basement  duplex  \\\n",
       "363           4            1        1  ...     1          1         0       0   \n",
       "1279          4            2        1  ...     1          1         0       1   \n",
       "2411          4            3        1  ...     1          1         0       1   \n",
       "\n",
       "      stairs  elevator  fireplace  price  \\\n",
       "363        1         0          0   3000   \n",
       "1279       1         0          0   2500   \n",
       "2411       0         0          1   2000   \n",
       "\n",
       "                                                details  rent frequnetly  \n",
       "363   فيلا دورين مكونة من 4 غرف نوم و 4 دورات مياه و...            Daily  \n",
       "1279  فيلا مؤثثه نظيفه جدا للايجار اليومي \\nبالسعر ا...            Daily  \n",
       "2411                   فيلا للايجار اليومي بخصوصية تامه            Daily  \n",
       "\n",
       "[3 rows x 26 columns]"
      ]
     },
     "execution_count": 302,
     "metadata": {},
     "output_type": "execute_result"
    }
   ],
   "source": [
    "H_data[H_data['rent frequnetly'] == 'Daily']"
   ]
  },
  {
   "cell_type": "markdown",
   "metadata": {},
   "source": [
    "---\n",
    "\n",
    "### Step4: Features of the data"
   ]
  },
  {
   "cell_type": "code",
   "execution_count": 303,
   "metadata": {},
   "outputs": [
    {
     "data": {
      "text/html": [
       "<div>\n",
       "<style scoped>\n",
       "    .dataframe tbody tr th:only-of-type {\n",
       "        vertical-align: middle;\n",
       "    }\n",
       "\n",
       "    .dataframe tbody tr th {\n",
       "        vertical-align: top;\n",
       "    }\n",
       "\n",
       "    .dataframe thead th {\n",
       "        text-align: right;\n",
       "    }\n",
       "</style>\n",
       "<table border=\"1\" class=\"dataframe\">\n",
       "  <thead>\n",
       "    <tr style=\"text-align: right;\">\n",
       "      <th></th>\n",
       "      <th>Unnamed: 0</th>\n",
       "      <th>city</th>\n",
       "      <th>district</th>\n",
       "      <th>front</th>\n",
       "      <th>size</th>\n",
       "      <th>property_age</th>\n",
       "      <th>bedrooms</th>\n",
       "      <th>bathrooms</th>\n",
       "      <th>livingrooms</th>\n",
       "      <th>kitchen</th>\n",
       "      <th>...</th>\n",
       "      <th>roof</th>\n",
       "      <th>pool</th>\n",
       "      <th>frontyard</th>\n",
       "      <th>basement</th>\n",
       "      <th>duplex</th>\n",
       "      <th>stairs</th>\n",
       "      <th>elevator</th>\n",
       "      <th>fireplace</th>\n",
       "      <th>price</th>\n",
       "      <th>rent frequnetly</th>\n",
       "    </tr>\n",
       "  </thead>\n",
       "  <tbody>\n",
       "    <tr>\n",
       "      <th>0</th>\n",
       "      <td>521</td>\n",
       "      <td>الرياض</td>\n",
       "      <td>حي الجنادرية</td>\n",
       "      <td>شرق</td>\n",
       "      <td>246</td>\n",
       "      <td>0</td>\n",
       "      <td>5</td>\n",
       "      <td>5</td>\n",
       "      <td>2</td>\n",
       "      <td>1</td>\n",
       "      <td>...</td>\n",
       "      <td>0</td>\n",
       "      <td>0</td>\n",
       "      <td>0</td>\n",
       "      <td>0</td>\n",
       "      <td>0</td>\n",
       "      <td>1</td>\n",
       "      <td>0</td>\n",
       "      <td>0</td>\n",
       "      <td>40000</td>\n",
       "      <td>Unkown</td>\n",
       "    </tr>\n",
       "    <tr>\n",
       "      <th>1</th>\n",
       "      <td>1653</td>\n",
       "      <td>جدة</td>\n",
       "      <td>حي بريمان</td>\n",
       "      <td>جنوب</td>\n",
       "      <td>350</td>\n",
       "      <td>0</td>\n",
       "      <td>7</td>\n",
       "      <td>5</td>\n",
       "      <td>2</td>\n",
       "      <td>1</td>\n",
       "      <td>...</td>\n",
       "      <td>1</td>\n",
       "      <td>0</td>\n",
       "      <td>0</td>\n",
       "      <td>0</td>\n",
       "      <td>1</td>\n",
       "      <td>1</td>\n",
       "      <td>1</td>\n",
       "      <td>0</td>\n",
       "      <td>45000</td>\n",
       "      <td>Unkown</td>\n",
       "    </tr>\n",
       "    <tr>\n",
       "      <th>2</th>\n",
       "      <td>131</td>\n",
       "      <td>الرياض</td>\n",
       "      <td>حي الرمال</td>\n",
       "      <td>جنوب</td>\n",
       "      <td>280</td>\n",
       "      <td>3</td>\n",
       "      <td>4</td>\n",
       "      <td>3</td>\n",
       "      <td>1</td>\n",
       "      <td>0</td>\n",
       "      <td>...</td>\n",
       "      <td>0</td>\n",
       "      <td>0</td>\n",
       "      <td>1</td>\n",
       "      <td>0</td>\n",
       "      <td>0</td>\n",
       "      <td>1</td>\n",
       "      <td>0</td>\n",
       "      <td>1</td>\n",
       "      <td>3300</td>\n",
       "      <td>Monthly</td>\n",
       "    </tr>\n",
       "    <tr>\n",
       "      <th>3</th>\n",
       "      <td>2284</td>\n",
       "      <td>الدمام</td>\n",
       "      <td>حي ضاحية الملك فهد</td>\n",
       "      <td>شمال</td>\n",
       "      <td>250</td>\n",
       "      <td>5</td>\n",
       "      <td>5</td>\n",
       "      <td>5</td>\n",
       "      <td>3</td>\n",
       "      <td>1</td>\n",
       "      <td>...</td>\n",
       "      <td>1</td>\n",
       "      <td>0</td>\n",
       "      <td>1</td>\n",
       "      <td>0</td>\n",
       "      <td>0</td>\n",
       "      <td>1</td>\n",
       "      <td>0</td>\n",
       "      <td>0</td>\n",
       "      <td>36000</td>\n",
       "      <td>Unkown</td>\n",
       "    </tr>\n",
       "    <tr>\n",
       "      <th>4</th>\n",
       "      <td>65</td>\n",
       "      <td>الرياض</td>\n",
       "      <td>حي الروضة</td>\n",
       "      <td>جنوب</td>\n",
       "      <td>352</td>\n",
       "      <td>30</td>\n",
       "      <td>7</td>\n",
       "      <td>5</td>\n",
       "      <td>2</td>\n",
       "      <td>1</td>\n",
       "      <td>...</td>\n",
       "      <td>1</td>\n",
       "      <td>0</td>\n",
       "      <td>1</td>\n",
       "      <td>0</td>\n",
       "      <td>0</td>\n",
       "      <td>1</td>\n",
       "      <td>0</td>\n",
       "      <td>1</td>\n",
       "      <td>80000</td>\n",
       "      <td>Unkown</td>\n",
       "    </tr>\n",
       "  </tbody>\n",
       "</table>\n",
       "<p>5 rows × 25 columns</p>\n",
       "</div>"
      ],
      "text/plain": [
       "   Unnamed: 0     city                district front  size  property_age  \\\n",
       "0         521   الرياض           حي الجنادرية    شرق   246             0   \n",
       "1        1653      جدة              حي بريمان   جنوب   350             0   \n",
       "2         131   الرياض              حي الرمال   جنوب   280             3   \n",
       "3        2284   الدمام     حي ضاحية الملك فهد   شمال   250             5   \n",
       "4          65   الرياض              حي الروضة   جنوب   352            30   \n",
       "\n",
       "   bedrooms  bathrooms  livingrooms  kitchen  ...  roof  pool  frontyard  \\\n",
       "0         5          5            2        1  ...     0     0          0   \n",
       "1         7          5            2        1  ...     1     0          0   \n",
       "2         4          3            1        0  ...     0     0          1   \n",
       "3         5          5            3        1  ...     1     0          1   \n",
       "4         7          5            2        1  ...     1     0          1   \n",
       "\n",
       "   basement  duplex  stairs  elevator  fireplace  price  rent frequnetly  \n",
       "0         0       0       1         0          0  40000           Unkown  \n",
       "1         0       1       1         1          0  45000           Unkown  \n",
       "2         0       0       1         0          1   3300          Monthly  \n",
       "3         0       0       1         0          0  36000           Unkown  \n",
       "4         0       0       1         0          1  80000           Unkown  \n",
       "\n",
       "[5 rows x 25 columns]"
      ]
     },
     "execution_count": 303,
     "metadata": {},
     "output_type": "execute_result"
    }
   ],
   "source": [
    "# features\n",
    "H_data.drop(\"details\", axis=1).head()"
   ]
  },
  {
   "cell_type": "code",
   "execution_count": 304,
   "metadata": {},
   "outputs": [
    {
     "data": {
      "text/plain": [
       "0    40000\n",
       "1    45000\n",
       "2     3300\n",
       "3    36000\n",
       "4    80000\n",
       "Name: price, dtype: int64"
      ]
     },
     "execution_count": 304,
     "metadata": {},
     "output_type": "execute_result"
    }
   ],
   "source": [
    "# Response variable\n",
    "H_data[\"price\"].head()"
   ]
  },
  {
   "cell_type": "markdown",
   "metadata": {},
   "source": [
    "---\n",
    "\n",
    "### Step5: Data splitting"
   ]
  },
  {
   "cell_type": "code",
   "execution_count": 305,
   "metadata": {},
   "outputs": [
    {
     "data": {
      "text/plain": [
       "(1487, 26)"
      ]
     },
     "execution_count": 305,
     "metadata": {},
     "output_type": "execute_result"
    }
   ],
   "source": [
    "# create train/test split\n",
    "train, test = train_test_split(H_data, train_size=0.5, random_state=130)\n",
    "\n",
    "# dimensions of training data\n",
    "train.shape"
   ]
  },
  {
   "cell_type": "code",
   "execution_count": 306,
   "metadata": {},
   "outputs": [],
   "source": [
    "y = H_data[\"pool\"]\n",
    "train_strat, test_strat = train_test_split(H_data, train_size=0.3, random_state=123, stratify=y)"
   ]
  },
  {
   "cell_type": "code",
   "execution_count": 307,
   "metadata": {},
   "outputs": [
    {
     "data": {
      "text/plain": [
       "60000     0.088097\n",
       "80000     0.083389\n",
       "65000     0.065905\n",
       "90000     0.053800\n",
       "100000    0.051446\n",
       "            ...   \n",
       "330000    0.000336\n",
       "420000    0.000336\n",
       "38400     0.000336\n",
       "2500      0.000336\n",
       "66500     0.000336\n",
       "Name: price, Length: 101, dtype: float64"
      ]
     },
     "execution_count": 307,
     "metadata": {},
     "output_type": "execute_result"
    }
   ],
   "source": [
    "# response distribution for raw data\n",
    "H_data[\"price\"].value_counts(normalize=True)"
   ]
  },
  {
   "cell_type": "code",
   "execution_count": 308,
   "metadata": {},
   "outputs": [
    {
     "data": {
      "text/plain": [
       "KNeighborsRegressor(n_neighbors=10)"
      ]
     },
     "execution_count": 308,
     "metadata": {},
     "output_type": "execute_result"
    }
   ],
   "source": [
    "# separate features from labels\n",
    "X_train = train[[\"size\"]]\n",
    "y_train = train[\"price\"]\n",
    "\n",
    "# fit a KNN regression model with 10 neighbors\n",
    "knn = KNeighborsRegressor(n_neighbors=10)\n",
    "m1 = knn.fit(X_train, y_train)\n",
    "\n",
    "m1"
   ]
  },
  {
   "cell_type": "code",
   "execution_count": 309,
   "metadata": {},
   "outputs": [
    {
     "data": {
      "text/plain": [
       "array([ 52500.,  88500.,  94300., ...,  53600., 118000.,  94300.])"
      ]
     },
     "execution_count": 309,
     "metadata": {},
     "output_type": "execute_result"
    }
   ],
   "source": [
    "m1.predict(X_train)"
   ]
  },
  {
   "cell_type": "markdown",
   "metadata": {},
   "source": [
    "### Step 5: Evaluating models"
   ]
  },
  {
   "cell_type": "code",
   "execution_count": 310,
   "metadata": {},
   "outputs": [
    {
     "data": {
      "text/plain": [
       "3579431109.936113"
      ]
     },
     "execution_count": 310,
     "metadata": {},
     "output_type": "execute_result"
    }
   ],
   "source": [
    "pred = m1.predict(X_train)\n",
    "\n",
    "# compute MSE\n",
    "mse = mean_squared_error(y_train, pred)\n",
    "mse"
   ]
  },
  {
   "cell_type": "code",
   "execution_count": 311,
   "metadata": {},
   "outputs": [
    {
     "data": {
      "text/plain": [
       "59828.34704332147"
      ]
     },
     "execution_count": 311,
     "metadata": {},
     "output_type": "execute_result"
    }
   ],
   "source": [
    "# compute RMSE\n",
    "math.sqrt(mse)"
   ]
  },
  {
   "cell_type": "markdown",
   "metadata": {},
   "source": [
    "### Classification model"
   ]
  },
  {
   "cell_type": "code",
   "execution_count": 312,
   "metadata": {},
   "outputs": [
    {
     "data": {
      "text/plain": [
       "1.0"
      ]
     },
     "execution_count": 312,
     "metadata": {},
     "output_type": "execute_result"
    }
   ],
   "source": [
    "# convert response to binary ints\n",
    "train_strat[\"pool\"].replace(('Yes', 'No'), (1, 0), inplace=True)\n",
    "\n",
    "# separate features from labels\n",
    "X_train_strat = train_strat[[\"pool\"]]\n",
    "y_train_strat = np.array(train_strat[\"pool\"])\n",
    "\n",
    "# fit a KNN regression model with 10 neighbors\n",
    "knn2 = KNeighborsClassifier(n_neighbors=10)\n",
    "m2 = knn2.fit(X_train_strat, y_train_strat)\n",
    "\n",
    "# make predictions\n",
    "pred = m2.predict_proba(X_train_strat)\n",
    "\n",
    "# compute AUC\n",
    "roc_auc_score(y_train_strat, pred[:, 1])"
   ]
  },
  {
   "cell_type": "markdown",
   "metadata": {},
   "source": [
    "### Resampling"
   ]
  },
  {
   "cell_type": "code",
   "execution_count": 313,
   "metadata": {},
   "outputs": [
    {
     "data": {
      "text/plain": [
       "array([ -48064.32578068, -129805.48405701,  -33644.02632538,\n",
       "        -78646.0169454 ,  -52809.09556598,  -42411.17711518,\n",
       "        -49143.17437772,  -47177.57802435,  -57179.01018801,\n",
       "        -46409.47651219])"
      ]
     },
     "execution_count": 313,
     "metadata": {},
     "output_type": "execute_result"
    }
   ],
   "source": [
    "# define loss function\n",
    "loss = 'neg_root_mean_squared_error'\n",
    "\n",
    "# create 10 fold CV object\n",
    "kfold = KFold(n_splits=10, random_state=121, shuffle=True)\n",
    "\n",
    "# fit model with 10-fold CV\n",
    "results = cross_val_score(m1, X_train, y_train, cv=kfold, scoring=loss)\n",
    "results"
   ]
  },
  {
   "cell_type": "code",
   "execution_count": 314,
   "metadata": {},
   "outputs": [
    {
     "data": {
      "text/plain": [
       "-58528.93648919"
      ]
     },
     "execution_count": 314,
     "metadata": {},
     "output_type": "execute_result"
    }
   ],
   "source": [
    "results.mean()"
   ]
  },
  {
   "cell_type": "code",
   "execution_count": 315,
   "metadata": {},
   "outputs": [
    {
     "data": {
      "text/plain": [
       "array([ -47900.15235155,  -42527.91409394,  -44073.46768399,\n",
       "        -58873.63450874,  -47147.14871954, -128393.14780269,\n",
       "        -81707.1680376 ,  -44059.04481182,  -44891.57960117,\n",
       "        -44864.66021811,  -70539.19839875,  -47327.33535508,\n",
       "        -57807.15757104,  -51497.46234707,  -45636.12395605,\n",
       "       -133214.7846386 ,  -41121.49025027,  -42169.02547639,\n",
       "        -57206.13184153,  -44053.63074432,  -67790.27794029,\n",
       "        -49997.56096065, -128619.71059558,  -35226.07808402,\n",
       "        -43601.71264569,  -52198.92074407,  -41505.63713028,\n",
       "        -70448.03576569,  -50312.69452036,  -55565.83841398,\n",
       "        -44094.69846689,  -35276.23399066,  -55363.54815152,\n",
       "        -41443.36638655,  -45290.66653481,  -55264.208055  ,\n",
       "        -50788.95011409,  -59450.68824187, -140802.79751245,\n",
       "        -43053.41811618,  -43013.49956856,  -43236.94297999,\n",
       "        -55074.43453115,  -45782.01238903, -127906.98272127,\n",
       "        -57521.98704225,  -77905.36733691,  -56180.05294274,\n",
       "        -43994.59738023,  -41209.63571394])"
      ]
     },
     "execution_count": 315,
     "metadata": {},
     "output_type": "execute_result"
    }
   ],
   "source": [
    "# 10 fold cross validation repated 5 times (total of 50 folds)\n",
    "rfk = RepeatedKFold(n_splits=10, n_repeats=5, random_state=123)\n",
    "results = cross_val_score(m1, X_train, y_train, cv=rfk, scoring=loss)\n",
    "results"
   ]
  },
  {
   "cell_type": "code",
   "execution_count": 316,
   "metadata": {},
   "outputs": [
    {
     "data": {
      "text/plain": [
       "-58658.61626769833"
      ]
     },
     "execution_count": 316,
     "metadata": {},
     "output_type": "execute_result"
    }
   ],
   "source": [
    "# average RMSE across all 50 folds\n",
    "results.mean()"
   ]
  },
  {
   "cell_type": "markdown",
   "metadata": {},
   "source": [
    "## Hyperparameter tuning"
   ]
  },
  {
   "cell_type": "code",
   "execution_count": 317,
   "metadata": {},
   "outputs": [
    {
     "data": {
      "text/plain": [
       "58528.93648919"
      ]
     },
     "execution_count": 317,
     "metadata": {},
     "output_type": "execute_result"
    }
   ],
   "source": [
    "# basic model object\n",
    "knn = KNeighborsRegressor()\n",
    "\n",
    "# Create grid of hyperparameter values\n",
    "hyper_grid = {'n_neighbors': range(2, 25)}\n",
    "\n",
    "# Tune a knn model using grid search\n",
    "grid_search = GridSearchCV(knn, hyper_grid, cv=kfold, scoring=loss)\n",
    "results = grid_search.fit(X_train, y_train)\n",
    "\n",
    "# Best model's cross validated RMSE\n",
    "abs(results.best_score_)"
   ]
  },
  {
   "cell_type": "code",
   "execution_count": 318,
   "metadata": {},
   "outputs": [
    {
     "data": {
      "text/plain": [
       "10"
      ]
     },
     "execution_count": 318,
     "metadata": {},
     "output_type": "execute_result"
    }
   ],
   "source": [
    "# Best model's k value\n",
    "results.best_estimator_.get_params().get('n_neighbors')"
   ]
  },
  {
   "cell_type": "code",
   "execution_count": 319,
   "metadata": {},
   "outputs": [
    {
     "data": {
      "image/png": "[encoded data removed]",
      "text/plain": [
       "<Figure size 640x480 with 1 Axes>"
      ]
     },
     "metadata": {},
     "output_type": "display_data"
    },
    {
     "data": {
      "text/plain": [
       "<ggplot: (8775417719387)>"
      ]
     },
     "execution_count": 319,
     "metadata": {},
     "output_type": "execute_result"
    }
   ],
   "source": [
    "# Plot all RMSE results\n",
    "all_rmse = pd.DataFrame({'k': range(2, 25), \n",
    "                         'RMSE': np.abs(results.cv_results_['mean_test_score'])})\n",
    "\n",
    "(ggplot(all_rmse, aes(x='k', y='RMSE'))\n",
    " + geom_line()\n",
    " + geom_point()\n",
    " + ggtitle(\"Cross validated grid search results\"))"
   ]
  },
  {
   "cell_type": "markdown",
   "metadata": {},
   "source": [
    "## Putting the processes together"
   ]
  },
  {
   "cell_type": "code",
   "execution_count": 320,
   "metadata": {},
   "outputs": [
    {
     "data": {
      "text/plain": [
       "64887.36963467104"
      ]
     },
     "execution_count": 320,
     "metadata": {},
     "output_type": "execute_result"
    }
   ],
   "source": [
    "# create train/test split\n",
    "train, test = train_test_split(H_data, train_size=0.6, random_state=123)\n",
    "\n",
    "# separate features from labels and only use numeric features\n",
    "X_train = train.select_dtypes(include='number').drop(\"price\", axis=1)\n",
    "y_train = train[\"price\"]\n",
    "\n",
    "# create KNN model object\n",
    "knn = KNeighborsRegressor()\n",
    "\n",
    "# define loss function\n",
    "loss = 'neg_root_mean_squared_error'\n",
    "\n",
    "# create 10 fold CV object\n",
    "kfold = KFold(n_splits=10, random_state=123, shuffle=True)\n",
    "\n",
    "# Create grid of hyperparameter values\n",
    "hyper_grid = {'n_neighbors': range(2, 26)}\n",
    "\n",
    "# Tune a knn model using grid search\n",
    "grid_search = GridSearchCV(knn, hyper_grid, cv=kfold, scoring=loss)\n",
    "results = grid_search.fit(X_train, y_train)\n",
    "\n",
    "# Best model's cross validated RMSE\n",
    "abs(results.best_score_)"
   ]
  },
  {
   "cell_type": "code",
   "execution_count": 321,
   "metadata": {},
   "outputs": [
    {
     "data": {
      "text/plain": [
       "17"
      ]
     },
     "execution_count": 321,
     "metadata": {},
     "output_type": "execute_result"
    }
   ],
   "source": [
    "# Best model's k value\n",
    "results.best_estimator_.get_params().get('n_neighbors')"
   ]
  },
  {
   "cell_type": "code",
   "execution_count": 322,
   "metadata": {},
   "outputs": [
    {
     "data": {
      "image/png": "[encoded data removed]",
      "text/plain": [
       "<Figure size 640x480 with 1 Axes>"
      ]
     },
     "metadata": {},
     "output_type": "display_data"
    },
    {
     "data": {
      "text/plain": [
       "<ggplot: (8775445197565)>"
      ]
     },
     "execution_count": 322,
     "metadata": {},
     "output_type": "execute_result"
    }
   ],
   "source": [
    "# Plot all RMSE results\n",
    "all_rmse = pd.DataFrame({'k': range(2, 26), \n",
    "                         'RMSE': np.abs(results.cv_results_['mean_test_score'])})\n",
    "\n",
    "(ggplot(all_rmse, aes(x='k', y='RMSE'))\n",
    " + geom_line()\n",
    " + geom_point()\n",
    " + ggtitle(\"Cross validated grid search results\"))"
   ]
  },
  {
   "cell_type": "code",
   "execution_count": 323,
   "metadata": {},
   "outputs": [],
   "source": [
    "# Saudi Aqar housing data\n",
    "# ames = pd.read_csv(\"../data/housing.csv\")\n",
    "\n",
    "# create train/test split\n",
    "train, test = train_test_split(H_data, train_size=0.7, random_state=123)\n",
    "\n",
    "# separate features from labels and only use numeric features\n",
    "X_train = train.drop(\"price\", axis=1)\n",
    "y_train = train[[\"price\"]]"
   ]
  },
  {
   "cell_type": "markdown",
   "metadata": {},
   "source": [
    "## Simple linear regression"
   ]
  },
  {
   "cell_type": "code",
   "execution_count": 324,
   "metadata": {},
   "outputs": [],
   "source": [
    "# create linear regression model object\n",
    "lm_mod = linear_model.LinearRegression()\n",
    "\n",
    "# fit linear model with only pool feature\n",
    "lm_fit = lm_mod.fit(X_train[[\"pool\"]], y_train)"
   ]
  },
  {
   "cell_type": "code",
   "execution_count": 325,
   "metadata": {},
   "outputs": [
    {
     "data": {
      "text/plain": [
       "array([79154.85436893])"
      ]
     },
     "execution_count": 325,
     "metadata": {},
     "output_type": "execute_result"
    }
   ],
   "source": [
    "# intercept\n",
    "lm_fit.intercept_"
   ]
  },
  {
   "cell_type": "code",
   "execution_count": 326,
   "metadata": {},
   "outputs": [
    {
     "data": {
      "text/plain": [
       "array([[48839.08502501]])"
      ]
     },
     "execution_count": 326,
     "metadata": {},
     "output_type": "execute_result"
    }
   ],
   "source": [
    "# coefficient for pool\n",
    "lm_fit.coef_"
   ]
  },
  {
   "cell_type": "markdown",
   "metadata": {},
   "source": [
    "### Interactions"
   ]
  },
  {
   "cell_type": "code",
   "execution_count": 327,
   "metadata": {},
   "outputs": [],
   "source": [
    "# create linear regression model object\n",
    "lm_mod = linear_model.LinearRegression()\n",
    "\n",
    "# use PolynomialFeatures to create main pool and roof effects and\n",
    "# also an interaction effect between pool & roof\n",
    "effects = preprocessing.PolynomialFeatures(\n",
    "  interaction_only=True,\n",
    "  include_bias=False\n",
    "  )\n",
    "features = effects.fit_transform(X_train[[\"pool\", \"roof\"]])\n",
    "\n",
    "# fit linear model with only pool and roof feature and\n",
    "# also include an interaction effect (pool:roof)\n",
    "lm_fit = lm_mod.fit(features, y_train)"
   ]
  },
  {
   "cell_type": "code",
   "execution_count": 328,
   "metadata": {},
   "outputs": [
    {
     "data": {
      "text/plain": [
       "array([[27925.47245678, -5386.58466542, 45156.58466542]])"
      ]
     },
     "execution_count": 328,
     "metadata": {},
     "output_type": "execute_result"
    }
   ],
   "source": [
    "# coefficients for pool, roof effects and the interaction \n",
    "# effect between pool & roof\n",
    "lm_fit.coef_"
   ]
  },
  {
   "cell_type": "markdown",
   "metadata": {},
   "source": [
    "## Assessing model accuracy"
   ]
  },
  {
   "cell_type": "code",
   "execution_count": 329,
   "metadata": {},
   "outputs": [],
   "source": [
    "# feature sets to compare across\n",
    "feature_set1 = X_train[[\"pool\"]]\n",
    "feature_set2 = X_train[[\"pool\", \"roof\"]]\n",
    "#feature_set3 = X_train_encoded\n",
    "feature_sets = {'lm1': feature_set1, 'lm2': feature_set2}\n",
    "\n",
    "# define loss function\n",
    "loss = 'neg_root_mean_squared_error'\n",
    "\n",
    "# create 10 fold CV object\n",
    "kfold = model_selection.KFold(n_splits=10, random_state=8451, shuffle=True)\n",
    "\n",
    "# object to store CV RMSE results\n",
    "results = {}\n",
    "\n",
    "for name, feat in feature_sets.items():\n",
    "  # create LM model object\n",
    "  lm_mod = linear_model.LinearRegression()\n",
    "\n",
    "  # execute and score the cross validation procedure\n",
    "  cv_results = model_selection.cross_val_score(\n",
    "    estimator=lm_mod, \n",
    "    X=feat, \n",
    "    y=y_train, \n",
    "    cv=kfold, \n",
    "    scoring=loss\n",
    "    )\n",
    "  results[name] = np.absolute(cv_results.mean())"
   ]
  },
  {
   "cell_type": "code",
   "execution_count": 330,
   "metadata": {},
   "outputs": [
    {
     "data": {
      "text/plain": [
       "{'lm1': 67179.93754598113, 'lm2': 67209.97272818911}"
      ]
     },
     "execution_count": 330,
     "metadata": {},
     "output_type": "execute_result"
    }
   ],
   "source": [
    "results"
   ]
  },
  {
   "cell_type": "markdown",
   "metadata": {},
   "source": [
    "## Principal component regression"
   ]
  },
  {
   "cell_type": "code",
   "execution_count": 331,
   "metadata": {},
   "outputs": [
    {
     "data": {
      "text/plain": [
       "57549.26466998316"
      ]
     },
     "execution_count": 331,
     "metadata": {},
     "output_type": "execute_result"
    }
   ],
   "source": [
    "# create linear model object\n",
    "lm_mod = linear_model.LinearRegression()\n",
    "\n",
    "# create k-fold cross validation object\n",
    "kfold = model_selection.KFold(n_splits=5, random_state=8451, shuffle=True)\n",
    "\n",
    "# define loss function\n",
    "loss = 'neg_root_mean_squared_error'\n",
    "\n",
    "# create our preprocessing steps which includes performing PCA \n",
    "# with 10 components\n",
    "scaler = preprocessing.StandardScaler()\n",
    "pca = decomposition.PCA(n_components=10)\n",
    "encoder = preprocessing.OneHotEncoder(handle_unknown=\"ignore\")\n",
    "num_feat_only = compose.make_column_selector(dtype_include=\"number\")\n",
    "cat_feat_only = compose.make_column_selector(dtype_include=\"object\")\n",
    "\n",
    "# combine all steps into a pre-processing pipeline\n",
    "preprocessor = compose.ColumnTransformer(\n",
    "  remainder=\"passthrough\",\n",
    "  transformers=[\n",
    "  (\"std_encode\", scaler, num_feat_only),\n",
    "  (\"pca_encode\", pca, num_feat_only),\n",
    "  (\"one-hot\", encoder, cat_feat_only),\n",
    "  ])\n",
    "\n",
    "# create a pipeline object that combines model with recipe\n",
    "model_pipeline = pipeline.Pipeline(steps=[\n",
    "  (\"preprocessor\", preprocessor),\n",
    "  (\"lm\", lm_mod),\n",
    "])\n",
    "\n",
    "# train and fit our model\n",
    "cv_results = model_selection.cross_val_score(\n",
    "  estimator=model_pipeline, \n",
    "  X=X_train, \n",
    "  y=y_train, \n",
    "  cv=kfold, \n",
    "  scoring=loss\n",
    "  )\n",
    "\n",
    "# get results\n",
    "np.absolute(cv_results.mean())"
   ]
  },
  {
   "cell_type": "markdown",
   "metadata": {},
   "source": [
    "### Tuning"
   ]
  },
  {
   "cell_type": "code",
   "execution_count": 332,
   "metadata": {},
   "outputs": [
    {
     "name": "stderr",
     "output_type": "stream",
     "text": [
      "/Library/Frameworks/Python.framework/Versions/3.9/lib/python3.9/site-packages/sklearn/model_selection/_validation.py:372: FitFailedWarning: \n",
      "5 fits failed out of a total of 5.\n",
      "The score on these train-test partitions for these parameters will be set to nan.\n",
      "If these failures are not expected, you can try to debug them by setting error_score='raise'.\n",
      "\n",
      "Below are more details about the failures:\n",
      "--------------------------------------------------------------------------------\n",
      "5 fits failed with the following error:\n",
      "Traceback (most recent call last):\n",
      "  File \"/Library/Frameworks/Python.framework/Versions/3.9/lib/python3.9/site-packages/sklearn/model_selection/_validation.py\", line 680, in _fit_and_score\n",
      "    estimator.fit(X_train, y_train, **fit_params)\n",
      "  File \"/Library/Frameworks/Python.framework/Versions/3.9/lib/python3.9/site-packages/sklearn/pipeline.py\", line 390, in fit\n",
      "    Xt = self._fit(X, y, **fit_params_steps)\n",
      "  File \"/Library/Frameworks/Python.framework/Versions/3.9/lib/python3.9/site-packages/sklearn/pipeline.py\", line 348, in _fit\n",
      "    X, fitted_transformer = fit_transform_one_cached(\n",
      "  File \"/Library/Frameworks/Python.framework/Versions/3.9/lib/python3.9/site-packages/joblib/memory.py\", line 349, in __call__\n",
      "    return self.func(*args, **kwargs)\n",
      "  File \"/Library/Frameworks/Python.framework/Versions/3.9/lib/python3.9/site-packages/sklearn/pipeline.py\", line 893, in _fit_transform_one\n",
      "    res = transformer.fit_transform(X, y, **fit_params)\n",
      "  File \"/Library/Frameworks/Python.framework/Versions/3.9/lib/python3.9/site-packages/sklearn/compose/_column_transformer.py\", line 675, in fit_transform\n",
      "    result = self._fit_transform(X, y, _fit_transform_one)\n",
      "  File \"/Library/Frameworks/Python.framework/Versions/3.9/lib/python3.9/site-packages/sklearn/compose/_column_transformer.py\", line 606, in _fit_transform\n",
      "    return Parallel(n_jobs=self.n_jobs)(\n",
      "  File \"/Library/Frameworks/Python.framework/Versions/3.9/lib/python3.9/site-packages/joblib/parallel.py\", line 1046, in __call__\n",
      "    while self.dispatch_one_batch(iterator):\n",
      "  File \"/Library/Frameworks/Python.framework/Versions/3.9/lib/python3.9/site-packages/joblib/parallel.py\", line 861, in dispatch_one_batch\n",
      "    self._dispatch(tasks)\n",
      "  File \"/Library/Frameworks/Python.framework/Versions/3.9/lib/python3.9/site-packages/joblib/parallel.py\", line 779, in _dispatch\n",
      "    job = self._backend.apply_async(batch, callback=cb)\n",
      "  File \"/Library/Frameworks/Python.framework/Versions/3.9/lib/python3.9/site-packages/joblib/_parallel_backends.py\", line 208, in apply_async\n",
      "    result = ImmediateResult(func)\n",
      "  File \"/Library/Frameworks/Python.framework/Versions/3.9/lib/python3.9/site-packages/joblib/_parallel_backends.py\", line 572, in __init__\n",
      "    self.results = batch()\n",
      "  File \"/Library/Frameworks/Python.framework/Versions/3.9/lib/python3.9/site-packages/joblib/parallel.py\", line 262, in __call__\n",
      "    return [func(*args, **kwargs)\n",
      "  File \"/Library/Frameworks/Python.framework/Versions/3.9/lib/python3.9/site-packages/joblib/parallel.py\", line 262, in <listcomp>\n",
      "    return [func(*args, **kwargs)\n",
      "  File \"/Library/Frameworks/Python.framework/Versions/3.9/lib/python3.9/site-packages/sklearn/utils/fixes.py\", line 216, in __call__\n",
      "    return self.function(*args, **kwargs)\n",
      "  File \"/Library/Frameworks/Python.framework/Versions/3.9/lib/python3.9/site-packages/sklearn/pipeline.py\", line 893, in _fit_transform_one\n",
      "    res = transformer.fit_transform(X, y, **fit_params)\n",
      "  File \"/Library/Frameworks/Python.framework/Versions/3.9/lib/python3.9/site-packages/sklearn/decomposition/_pca.py\", line 407, in fit_transform\n",
      "    U, S, Vt = self._fit(X)\n",
      "  File \"/Library/Frameworks/Python.framework/Versions/3.9/lib/python3.9/site-packages/sklearn/decomposition/_pca.py\", line 457, in _fit\n",
      "    return self._fit_full(X, n_components)\n",
      "  File \"/Library/Frameworks/Python.framework/Versions/3.9/lib/python3.9/site-packages/sklearn/decomposition/_pca.py\", line 475, in _fit_full\n",
      "    raise ValueError(\n",
      "ValueError: n_components=22 must be between 0 and min(n_samples, n_features)=20 with svd_solver='full'\n",
      "\n",
      "/Library/Frameworks/Python.framework/Versions/3.9/lib/python3.9/site-packages/sklearn/model_selection/_validation.py:372: FitFailedWarning: \n",
      "5 fits failed out of a total of 5.\n",
      "The score on these train-test partitions for these parameters will be set to nan.\n",
      "If these failures are not expected, you can try to debug them by setting error_score='raise'.\n",
      "\n",
      "Below are more details about the failures:\n",
      "--------------------------------------------------------------------------------\n",
      "5 fits failed with the following error:\n",
      "Traceback (most recent call last):\n",
      "  File \"/Library/Frameworks/Python.framework/Versions/3.9/lib/python3.9/site-packages/sklearn/model_selection/_validation.py\", line 680, in _fit_and_score\n",
      "    estimator.fit(X_train, y_train, **fit_params)\n",
      "  File \"/Library/Frameworks/Python.framework/Versions/3.9/lib/python3.9/site-packages/sklearn/pipeline.py\", line 390, in fit\n",
      "    Xt = self._fit(X, y, **fit_params_steps)\n",
      "  File \"/Library/Frameworks/Python.framework/Versions/3.9/lib/python3.9/site-packages/sklearn/pipeline.py\", line 348, in _fit\n",
      "    X, fitted_transformer = fit_transform_one_cached(\n",
      "  File \"/Library/Frameworks/Python.framework/Versions/3.9/lib/python3.9/site-packages/joblib/memory.py\", line 349, in __call__\n",
      "    return self.func(*args, **kwargs)\n",
      "  File \"/Library/Frameworks/Python.framework/Versions/3.9/lib/python3.9/site-packages/sklearn/pipeline.py\", line 893, in _fit_transform_one\n",
      "    res = transformer.fit_transform(X, y, **fit_params)\n",
      "  File \"/Library/Frameworks/Python.framework/Versions/3.9/lib/python3.9/site-packages/sklearn/compose/_column_transformer.py\", line 675, in fit_transform\n",
      "    result = self._fit_transform(X, y, _fit_transform_one)\n",
      "  File \"/Library/Frameworks/Python.framework/Versions/3.9/lib/python3.9/site-packages/sklearn/compose/_column_transformer.py\", line 606, in _fit_transform\n",
      "    return Parallel(n_jobs=self.n_jobs)(\n",
      "  File \"/Library/Frameworks/Python.framework/Versions/3.9/lib/python3.9/site-packages/joblib/parallel.py\", line 1046, in __call__\n",
      "    while self.dispatch_one_batch(iterator):\n",
      "  File \"/Library/Frameworks/Python.framework/Versions/3.9/lib/python3.9/site-packages/joblib/parallel.py\", line 861, in dispatch_one_batch\n",
      "    self._dispatch(tasks)\n",
      "  File \"/Library/Frameworks/Python.framework/Versions/3.9/lib/python3.9/site-packages/joblib/parallel.py\", line 779, in _dispatch\n",
      "    job = self._backend.apply_async(batch, callback=cb)\n",
      "  File \"/Library/Frameworks/Python.framework/Versions/3.9/lib/python3.9/site-packages/joblib/_parallel_backends.py\", line 208, in apply_async\n",
      "    result = ImmediateResult(func)\n",
      "  File \"/Library/Frameworks/Python.framework/Versions/3.9/lib/python3.9/site-packages/joblib/_parallel_backends.py\", line 572, in __init__\n",
      "    self.results = batch()\n",
      "  File \"/Library/Frameworks/Python.framework/Versions/3.9/lib/python3.9/site-packages/joblib/parallel.py\", line 262, in __call__\n",
      "    return [func(*args, **kwargs)\n",
      "  File \"/Library/Frameworks/Python.framework/Versions/3.9/lib/python3.9/site-packages/joblib/parallel.py\", line 262, in <listcomp>\n",
      "    return [func(*args, **kwargs)\n",
      "  File \"/Library/Frameworks/Python.framework/Versions/3.9/lib/python3.9/site-packages/sklearn/utils/fixes.py\", line 216, in __call__\n",
      "    return self.function(*args, **kwargs)\n",
      "  File \"/Library/Frameworks/Python.framework/Versions/3.9/lib/python3.9/site-packages/sklearn/pipeline.py\", line 893, in _fit_transform_one\n",
      "    res = transformer.fit_transform(X, y, **fit_params)\n",
      "  File \"/Library/Frameworks/Python.framework/Versions/3.9/lib/python3.9/site-packages/sklearn/decomposition/_pca.py\", line 407, in fit_transform\n",
      "    U, S, Vt = self._fit(X)\n",
      "  File \"/Library/Frameworks/Python.framework/Versions/3.9/lib/python3.9/site-packages/sklearn/decomposition/_pca.py\", line 457, in _fit\n",
      "    return self._fit_full(X, n_components)\n",
      "  File \"/Library/Frameworks/Python.framework/Versions/3.9/lib/python3.9/site-packages/sklearn/decomposition/_pca.py\", line 475, in _fit_full\n",
      "    raise ValueError(\n",
      "ValueError: n_components=24 must be between 0 and min(n_samples, n_features)=20 with svd_solver='full'\n",
      "\n",
      "/Library/Frameworks/Python.framework/Versions/3.9/lib/python3.9/site-packages/sklearn/model_selection/_validation.py:372: FitFailedWarning: \n",
      "5 fits failed out of a total of 5.\n",
      "The score on these train-test partitions for these parameters will be set to nan.\n",
      "If these failures are not expected, you can try to debug them by setting error_score='raise'.\n",
      "\n",
      "Below are more details about the failures:\n",
      "--------------------------------------------------------------------------------\n",
      "5 fits failed with the following error:\n",
      "Traceback (most recent call last):\n",
      "  File \"/Library/Frameworks/Python.framework/Versions/3.9/lib/python3.9/site-packages/sklearn/model_selection/_validation.py\", line 680, in _fit_and_score\n",
      "    estimator.fit(X_train, y_train, **fit_params)\n",
      "  File \"/Library/Frameworks/Python.framework/Versions/3.9/lib/python3.9/site-packages/sklearn/pipeline.py\", line 390, in fit\n",
      "    Xt = self._fit(X, y, **fit_params_steps)\n",
      "  File \"/Library/Frameworks/Python.framework/Versions/3.9/lib/python3.9/site-packages/sklearn/pipeline.py\", line 348, in _fit\n",
      "    X, fitted_transformer = fit_transform_one_cached(\n",
      "  File \"/Library/Frameworks/Python.framework/Versions/3.9/lib/python3.9/site-packages/joblib/memory.py\", line 349, in __call__\n",
      "    return self.func(*args, **kwargs)\n",
      "  File \"/Library/Frameworks/Python.framework/Versions/3.9/lib/python3.9/site-packages/sklearn/pipeline.py\", line 893, in _fit_transform_one\n",
      "    res = transformer.fit_transform(X, y, **fit_params)\n",
      "  File \"/Library/Frameworks/Python.framework/Versions/3.9/lib/python3.9/site-packages/sklearn/compose/_column_transformer.py\", line 675, in fit_transform\n",
      "    result = self._fit_transform(X, y, _fit_transform_one)\n",
      "  File \"/Library/Frameworks/Python.framework/Versions/3.9/lib/python3.9/site-packages/sklearn/compose/_column_transformer.py\", line 606, in _fit_transform\n",
      "    return Parallel(n_jobs=self.n_jobs)(\n",
      "  File \"/Library/Frameworks/Python.framework/Versions/3.9/lib/python3.9/site-packages/joblib/parallel.py\", line 1046, in __call__\n",
      "    while self.dispatch_one_batch(iterator):\n",
      "  File \"/Library/Frameworks/Python.framework/Versions/3.9/lib/python3.9/site-packages/joblib/parallel.py\", line 861, in dispatch_one_batch\n",
      "    self._dispatch(tasks)\n",
      "  File \"/Library/Frameworks/Python.framework/Versions/3.9/lib/python3.9/site-packages/joblib/parallel.py\", line 779, in _dispatch\n",
      "    job = self._backend.apply_async(batch, callback=cb)\n",
      "  File \"/Library/Frameworks/Python.framework/Versions/3.9/lib/python3.9/site-packages/joblib/_parallel_backends.py\", line 208, in apply_async\n",
      "    result = ImmediateResult(func)\n",
      "  File \"/Library/Frameworks/Python.framework/Versions/3.9/lib/python3.9/site-packages/joblib/_parallel_backends.py\", line 572, in __init__\n",
      "    self.results = batch()\n",
      "  File \"/Library/Frameworks/Python.framework/Versions/3.9/lib/python3.9/site-packages/joblib/parallel.py\", line 262, in __call__\n",
      "    return [func(*args, **kwargs)\n",
      "  File \"/Library/Frameworks/Python.framework/Versions/3.9/lib/python3.9/site-packages/joblib/parallel.py\", line 262, in <listcomp>\n",
      "    return [func(*args, **kwargs)\n",
      "  File \"/Library/Frameworks/Python.framework/Versions/3.9/lib/python3.9/site-packages/sklearn/utils/fixes.py\", line 216, in __call__\n",
      "    return self.function(*args, **kwargs)\n",
      "  File \"/Library/Frameworks/Python.framework/Versions/3.9/lib/python3.9/site-packages/sklearn/pipeline.py\", line 893, in _fit_transform_one\n",
      "    res = transformer.fit_transform(X, y, **fit_params)\n",
      "  File \"/Library/Frameworks/Python.framework/Versions/3.9/lib/python3.9/site-packages/sklearn/decomposition/_pca.py\", line 407, in fit_transform\n",
      "    U, S, Vt = self._fit(X)\n",
      "  File \"/Library/Frameworks/Python.framework/Versions/3.9/lib/python3.9/site-packages/sklearn/decomposition/_pca.py\", line 457, in _fit\n",
      "    return self._fit_full(X, n_components)\n",
      "  File \"/Library/Frameworks/Python.framework/Versions/3.9/lib/python3.9/site-packages/sklearn/decomposition/_pca.py\", line 475, in _fit_full\n",
      "    raise ValueError(\n",
      "ValueError: n_components=26 must be between 0 and min(n_samples, n_features)=20 with svd_solver='full'\n",
      "\n"
     ]
    }
   ],
   "source": [
    "# create k-fold cross validation object\n",
    "kfold = model_selection.KFold(n_splits=5, random_state=8451, shuffle=True)\n",
    "\n",
    "# define loss function\n",
    "loss = 'neg_root_mean_squared_error'\n",
    "\n",
    "# create our preprocessing steps\n",
    "scaler = preprocessing.StandardScaler()\n",
    "encoder = preprocessing.OneHotEncoder(handle_unknown=\"ignore\")\n",
    "num_feat_only = compose.make_column_selector(dtype_include=\"number\")\n",
    "cat_feat_only = compose.make_column_selector(dtype_include=\"object\")\n",
    "\n",
    "# create object to save results\n",
    "results = {}\n",
    "\n",
    "# iterate over over 2, 4, 6, ..., 26 components and train model\n",
    "for n_comp in range(2, 28, 2):\n",
    "  # create PCA object with n components\n",
    "  pca = decomposition.PCA(n_components=n_comp)\n",
    "  \n",
    "# combine all steps into a pre-processing pipeline\n",
    "  preprocessor = compose.ColumnTransformer(\n",
    "    remainder=\"passthrough\",\n",
    "    transformers=[\n",
    "    (\"std_encode\", scaler, num_feat_only),\n",
    "    (\"pca_encode\", pca, num_feat_only),\n",
    "    (\"one-hot\", encoder, cat_feat_only),\n",
    "    ])\n",
    "\n",
    "  # create linear model object\n",
    "  lm_mod = linear_model.LinearRegression()\n",
    "\n",
    "  # create a pipeline object that combines model with recipe\n",
    "  model_pipeline = pipeline.Pipeline(steps=[\n",
    "    (\"preprocessor\", preprocessor),\n",
    "    (\"lm\", lm_mod),\n",
    "  ])\n",
    "\n",
    "  # train and fit our model\n",
    "  cv_results = model_selection.cross_val_score(\n",
    "    estimator=model_pipeline, \n",
    "    X=X_train, \n",
    "    y=y_train, \n",
    "    cv=kfold, \n",
    "    scoring=loss\n",
    "    )\n",
    "\n",
    "  # get results\n",
    "  results[n_comp] = np.absolute(cv_results.mean())"
   ]
  },
  {
   "cell_type": "code",
   "execution_count": 333,
   "metadata": {},
   "outputs": [
    {
     "data": {
      "text/html": [
       "<div>\n",
       "<style scoped>\n",
       "    .dataframe tbody tr th:only-of-type {\n",
       "        vertical-align: middle;\n",
       "    }\n",
       "\n",
       "    .dataframe tbody tr th {\n",
       "        vertical-align: top;\n",
       "    }\n",
       "\n",
       "    .dataframe thead th {\n",
       "        text-align: right;\n",
       "    }\n",
       "</style>\n",
       "<table border=\"1\" class=\"dataframe\">\n",
       "  <thead>\n",
       "    <tr style=\"text-align: right;\">\n",
       "      <th></th>\n",
       "      <th>n_components</th>\n",
       "      <th>RMSE</th>\n",
       "    </tr>\n",
       "  </thead>\n",
       "  <tbody>\n",
       "    <tr>\n",
       "      <th>0</th>\n",
       "      <td>2</td>\n",
       "      <td>57559.002296</td>\n",
       "    </tr>\n",
       "    <tr>\n",
       "      <th>1</th>\n",
       "      <td>4</td>\n",
       "      <td>57553.719016</td>\n",
       "    </tr>\n",
       "    <tr>\n",
       "      <th>2</th>\n",
       "      <td>6</td>\n",
       "      <td>57552.694165</td>\n",
       "    </tr>\n",
       "    <tr>\n",
       "      <th>3</th>\n",
       "      <td>8</td>\n",
       "      <td>57551.433942</td>\n",
       "    </tr>\n",
       "    <tr>\n",
       "      <th>4</th>\n",
       "      <td>10</td>\n",
       "      <td>57551.147702</td>\n",
       "    </tr>\n",
       "    <tr>\n",
       "      <th>5</th>\n",
       "      <td>12</td>\n",
       "      <td>57550.518764</td>\n",
       "    </tr>\n",
       "    <tr>\n",
       "      <th>6</th>\n",
       "      <td>14</td>\n",
       "      <td>57552.158411</td>\n",
       "    </tr>\n",
       "    <tr>\n",
       "      <th>7</th>\n",
       "      <td>16</td>\n",
       "      <td>57551.957044</td>\n",
       "    </tr>\n",
       "    <tr>\n",
       "      <th>8</th>\n",
       "      <td>18</td>\n",
       "      <td>57553.083619</td>\n",
       "    </tr>\n",
       "    <tr>\n",
       "      <th>9</th>\n",
       "      <td>20</td>\n",
       "      <td>57554.613800</td>\n",
       "    </tr>\n",
       "    <tr>\n",
       "      <th>10</th>\n",
       "      <td>22</td>\n",
       "      <td>NaN</td>\n",
       "    </tr>\n",
       "    <tr>\n",
       "      <th>11</th>\n",
       "      <td>24</td>\n",
       "      <td>NaN</td>\n",
       "    </tr>\n",
       "    <tr>\n",
       "      <th>12</th>\n",
       "      <td>26</td>\n",
       "      <td>NaN</td>\n",
       "    </tr>\n",
       "  </tbody>\n",
       "</table>\n",
       "</div>"
      ],
      "text/plain": [
       "    n_components          RMSE\n",
       "0              2  57559.002296\n",
       "1              4  57553.719016\n",
       "2              6  57552.694165\n",
       "3              8  57551.433942\n",
       "4             10  57551.147702\n",
       "5             12  57550.518764\n",
       "6             14  57552.158411\n",
       "7             16  57551.957044\n",
       "8             18  57553.083619\n",
       "9             20  57554.613800\n",
       "10            22           NaN\n",
       "11            24           NaN\n",
       "12            26           NaN"
      ]
     },
     "execution_count": 333,
     "metadata": {},
     "output_type": "execute_result"
    }
   ],
   "source": [
    "pd.DataFrame.from_dict(\n",
    "  results,\n",
    "  orient='index',\n",
    "  columns=['RMSE']\n",
    "  ).rename_axis('n_components').reset_index()"
   ]
  },
  {
   "cell_type": "markdown",
   "metadata": {},
   "source": [
    "## Partial least squares"
   ]
  },
  {
   "cell_type": "code",
   "execution_count": 334,
   "metadata": {},
   "outputs": [
    {
     "data": {
      "text/plain": [
       "54648.400696488956"
      ]
     },
     "execution_count": 334,
     "metadata": {},
     "output_type": "execute_result"
    }
   ],
   "source": [
    "# create linear model object\n",
    "pls_mod = cross_decomposition.PLSRegression()\n",
    "\n",
    "# create k-fold cross validation object\n",
    "kfold = model_selection.KFold(n_splits=5, random_state=8451, shuffle=True)\n",
    "\n",
    "# define loss function\n",
    "loss = 'neg_root_mean_squared_error'\n",
    "\n",
    "# create our preprocessing steps to normalize and one-hot encode\n",
    "scaler = preprocessing.StandardScaler()\n",
    "encoder = preprocessing.OneHotEncoder(handle_unknown=\"ignore\", sparse=False)\n",
    "num_feat_only = compose.make_column_selector(dtype_include=\"number\")\n",
    "cat_feat_only = compose.make_column_selector(dtype_include=\"object\")\n",
    "\n",
    "# combine all steps into a pre-processing pipeline\n",
    "preprocessor = compose.ColumnTransformer(\n",
    "  remainder=\"passthrough\",\n",
    "  transformers=[\n",
    "    (\"std_encode\", scaler, num_feat_only),\n",
    "    (\"one-hot\", encoder, cat_feat_only),\n",
    "  ])\n",
    "\n",
    "# create a pipeline object that combines model with recipe\n",
    "model_pipeline = pipeline.Pipeline(steps=[\n",
    "  (\"preprocessor\", preprocessor),\n",
    "  (\"pls\", pls_mod),\n",
    "])\n",
    "\n",
    "# Create grid of hyperparameter values\n",
    "hyper_grid = {'pls__n_components': range(2, 28, 2)}\n",
    "\n",
    "# Tune a knn model using grid search\n",
    "grid_search = model_selection.GridSearchCV(\n",
    "  model_pipeline, \n",
    "  hyper_grid, \n",
    "  cv=kfold, \n",
    "  scoring=loss\n",
    "  )\n",
    "  \n",
    "results = grid_search.fit(X_train, y_train)\n",
    "\n",
    "# Best model's cross validated RMSE\n",
    "abs(results.best_score_)"
   ]
  },
  {
   "cell_type": "code",
   "execution_count": 336,
   "metadata": {},
   "outputs": [
    {
     "data": {
      "text/plain": [
       "4"
      ]
     },
     "execution_count": 336,
     "metadata": {},
     "output_type": "execute_result"
    }
   ],
   "source": [
    "# Optimal number of components\n",
    "results.best_estimator_.get_params().get('pls__n_components')"
   ]
  }
 ],
 "metadata": {
  "interpreter": {
   "hash": "aee8b7b246df8f9039afb4144a1f6fd8d2ca17a180786b69acc140d282b71a49"
  },
  "kernelspec": {
   "display_name": "Python 3.9.9 64-bit",
   "language": "python",
   "name": "python3"
  },
  "language_info": {
   "codemirror_mode": {
    "name": "ipython",
    "version": 3
   },
   "file_extension": ".py",
   "mimetype": "text/x-python",
   "name": "python",
   "nbconvert_exporter": "python",
   "pygments_lexer": "ipython3",
   "version": "3.9.9"
  },
  "orig_nbformat": 4
 },
 "nbformat": 4,
 "nbformat_minor": 2
}
