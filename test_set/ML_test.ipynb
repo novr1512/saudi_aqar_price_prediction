{
 "cells": [
  {
   "cell_type": "markdown",
   "metadata": {},
   "source": [
    "### Saudi Aqar prediction\n"
   ]
  },
  {
   "cell_type": "markdown",
   "metadata": {},
   "source": [
    "The saudi real estate market is a fast-growing industry <br>\n",
    "This dataset is collected and scrapped from Aqar website. The chosen cities are Riyadh, Jeddah, Dammam, and Al-Khobar. This dataset focused on the rental houses. It contains information about 3000 properties from various districts\n",
    "\n"
   ]
  },
  {
   "cell_type": "markdown",
   "metadata": {},
   "source": [
    "### Step 1: Importing Libraries"
   ]
  },
  {
   "cell_type": "code",
   "execution_count": 95,
   "metadata": {},
   "outputs": [],
   "source": [
    "# ! conda install -c conda-forge plotnine\n",
    "# ! conda install -c conda-forge missingno\n",
    "# ! conda install -c conda-forge category_encoders\n",
    "# ! conda install -c conda-forge feature_engine\n"
   ]
  },
  {
   "cell_type": "code",
   "execution_count": 96,
   "metadata": {},
   "outputs": [],
   "source": [
    "# Helper packages\n",
    "import pandas as pd   \n",
    "import numpy as np    \n",
    "import seaborn as sns \n",
    "import matplotlib.pyplot as plt\n",
    "import sklearn\n",
    "from plotnine import ggplot, aes, geom_density, geom_line, geom_point, ggtitle\n",
    "import missingno as msno\n",
    "\n",
    "# Modeling pre-processing with scikit-learn functionality\n",
    "from sklearn.compose import TransformedTargetRegressor\n",
    "from sklearn.compose import ColumnTransformer\n",
    "from sklearn.compose import make_column_selector as selector\n",
    "from sklearn.preprocessing import PowerTransformer\n",
    "from sklearn.preprocessing import StandardScaler\n",
    "from sklearn.preprocessing import OneHotEncoder\n",
    "from sklearn.preprocessing import LabelEncoder\n",
    "from sklearn.impute import SimpleImputer\n",
    "from sklearn.impute import KNNImputer\n",
    "from sklearn.feature_selection import VarianceThreshold\n",
    "from sklearn.decomposition import PCA\n",
    "\n",
    "# Modeling pre-processing with non-scikit-learn packages\n",
    "from category_encoders.ordinal import OrdinalEncoder\n",
    "from feature_engine.encoding import RareLabelEncoder\n",
    "\n",
    "# Modeling\n",
    "from sklearn.pipeline import Pipeline\n",
    "from sklearn.model_selection import GridSearchCV, train_test_split, KFold, RepeatedKFold, cross_val_score\n",
    "from sklearn.neighbors import KNeighborsRegressor, KNeighborsClassifier\n",
    "from sklearn.metrics import mean_squared_error, roc_auc_score\n",
    "from sklearn import preprocessing\n",
    "from sklearn import compose\n",
    "from sklearn import cross_decomposition\n",
    "from sklearn import decomposition\n",
    "from sklearn import model_selection\n",
    "from sklearn import linear_model\n",
    "from sklearn import pipeline"
   ]
  },
  {
   "cell_type": "markdown",
   "metadata": {},
   "source": [
    "### Step 2: Read Dataset\n"
   ]
  },
  {
   "cell_type": "code",
   "execution_count": 97,
   "metadata": {},
   "outputs": [],
   "source": [
    "housing= pd.read_csv('/Users/manar/Desktop/AQAR/saudi_aqar_price_prediction/clean_housing.csv')\n",
    "housing_test= pd.read_csv('clean_test_housing.csv')"
   ]
  },
  {
   "cell_type": "code",
   "execution_count": 98,
   "metadata": {},
   "outputs": [],
   "source": [
    "housing.drop('Unnamed: 0', inplace=True, axis=1)"
   ]
  },
  {
   "cell_type": "code",
   "execution_count": 106,
   "metadata": {},
   "outputs": [],
   "source": [
    "housing_test.drop('Unnamed: 0', inplace=True, axis=1)"
   ]
  },
  {
   "cell_type": "markdown",
   "metadata": {},
   "source": [
    "### Step 4: feature engineering \n"
   ]
  },
  {
   "cell_type": "markdown",
   "metadata": {},
   "source": [
    "the data consist of catogrical and numarical features, since we will use the linear regression, we will encode the catogrical features"
   ]
  },
  {
   "cell_type": "code",
   "execution_count": 107,
   "metadata": {},
   "outputs": [],
   "source": [
    "# Encoding categorical data \n",
    "def encodingColumns(dataFr,column):\n",
    "    ohe = OneHotEncoder()\n",
    "    feature_array = ohe.fit_transform(dataFr[[column]]).toarray()\n",
    "    feature_lable = ohe.categories_\n",
    "    feature = pd.DataFrame(feature_array,columns=feature_lable)\n",
    "    dataFr = pd.concat([dataFr,feature],axis=1)\n",
    "    return dataFr\n",
    "\n",
    "encoded_housing = encodingColumns(housing,\"city\")\n",
    "encoded_housing = encodingColumns(encoded_housing,\"Accommodation Types\")\n",
    "\n",
    "test_encoded_housing = encodingColumns(housing_test,\"city\")\n",
    "test_encoded_housing = encodingColumns(test_encoded_housing,\"Accommodation Types\")\n"
   ]
  },
  {
   "cell_type": "code",
   "execution_count": 108,
   "metadata": {},
   "outputs": [],
   "source": [
    "encoded_housing.drop(['Accommodation Types','city','Rent Frequnecy','district','front'], inplace=True, axis=1)\n",
    "test_encoded_housing.drop(['Accommodation Types','city','Rent Frequnecy','district','front'], inplace=True, axis=1)\n"
   ]
  },
  {
   "cell_type": "code",
   "execution_count": 109,
   "metadata": {},
   "outputs": [],
   "source": [
    "test_encoded_housing.drop('details', inplace=True, axis=1)"
   ]
  },
  {
   "cell_type": "code",
   "execution_count": 110,
   "metadata": {},
   "outputs": [
    {
     "data": {
      "text/plain": [
       "Index([        'size', 'property_age',     'bedrooms',    'bathrooms',\n",
       "        'livingrooms',      'kitchen',       'garage',  'driver_room',\n",
       "          'maid_room',    'furnished',           'ac',         'roof',\n",
       "               'pool',    'frontyard',     'basement',       'duplex',\n",
       "             'stairs',     'elevator',    'fireplace',        'price',\n",
       "          (' الخبر',),   (' الدمام',),   (' الرياض',),      (' جدة',),\n",
       "          ('Unkown',), ('apartment',),     ('floor',),     ('house',)],\n",
       "      dtype='object')"
      ]
     },
     "execution_count": 110,
     "metadata": {},
     "output_type": "execute_result"
    }
   ],
   "source": [
    "encoded_housing.columns"
   ]
  },
  {
   "cell_type": "markdown",
   "metadata": {},
   "source": [
    "### Step 5 : Building Modals "
   ]
  },
  {
   "cell_type": "markdown",
   "metadata": {},
   "source": [
    "##### data spliting"
   ]
  },
  {
   "cell_type": "code",
   "execution_count": 111,
   "metadata": {},
   "outputs": [],
   "source": [
    "\n",
    "# separate features from labels and only use numeric features\n",
    "# Create X_train,y_train\n",
    "X_train = encoded_housing.drop(\"price\", axis=1)\n",
    "y_train = encoded_housing[[\"price\"]]\n",
    "\n",
    "X_test = test_encoded_housing.drop(\"price\", axis=1)\n",
    "y_test = np.asanyarray(test_encoded_housing[['price']])\n"
   ]
  },
  {
   "cell_type": "markdown",
   "metadata": {},
   "source": [
    "#### multi feature linear regression \n",
    "all feature are included in this model"
   ]
  },
  {
   "cell_type": "code",
   "execution_count": 112,
   "metadata": {},
   "outputs": [],
   "source": [
    "\n",
    "# create linear regression model object\n",
    "lm_mod = linear_model.LinearRegression()\n",
    "\n",
    "# fit linear model with all features\n",
    "lm_fit = lm_mod.fit(X_train.values, y_train)"
   ]
  },
  {
   "cell_type": "markdown",
   "metadata": {},
   "source": [
    "## Step 6 : testing"
   ]
  },
  {
   "cell_type": "markdown",
   "metadata": {},
   "source": [
    "we are going to test the test set on the chosen model"
   ]
  },
  {
   "cell_type": "code",
   "execution_count": 113,
   "metadata": {},
   "outputs": [
    {
     "name": "stdout",
     "output_type": "stream",
     "text": [
      "Mean absolute error: 43481.82\n",
      "Residual sum of squares (MSE): 167584552712.48\n",
      "R2-score: -40.79\n"
     ]
    }
   ],
   "source": [
    "from sklearn.metrics import r2_score\n",
    "\n",
    "# create linear regression model object\n",
    "lm_mod = linear_model.LinearRegression()\n",
    "\n",
    "# fit linear model with all features\n",
    "lm_fit = lm_mod.fit(X_train.values, y_train)\n",
    "\n",
    "#X_test = test.drop(\"price\", axis=1)\n",
    "\n",
    "y_predicted = lm_mod.predict(X_test)\n",
    "\n",
    "print(\"Mean absolute error: %.2f\" % np.mean(np.absolute(y_test - y_predicted)))\n",
    "print(\"Residual sum of squares (MSE): %.2f\" % np.mean((y_test - y_predicted) ** 2))\n",
    "print(\"R2-score: %.2f\" % r2_score(y_test , y_predicted) ) \n",
    "#R2= 1- SSres / SStot\n",
    "#  where SSres is the sum of squares of the residual errors.\n",
    "# SStot is the total sum of the errors."
   ]
  },
  {
   "cell_type": "markdown",
   "metadata": {},
   "source": [
    "# conclusion \n",
    "\n",
    "after preforming the test on the selected model, the results turned out not as expected "
   ]
  }
 ],
 "metadata": {
  "interpreter": {
   "hash": "4d9dacf5232f5bbf23e7b3f8d99a419d8afafc63fe2b6c766cc36fbd53e02ce0"
  },
  "kernelspec": {
   "display_name": "Python 3.9.7 ('base')",
   "language": "python",
   "name": "python3"
  },
  "language_info": {
   "codemirror_mode": {
    "name": "ipython",
    "version": 3
   },
   "file_extension": ".py",
   "mimetype": "text/x-python",
   "name": "python",
   "nbconvert_exporter": "python",
   "pygments_lexer": "ipython3",
   "version": "3.9.9"
  },
  "orig_nbformat": 4
 },
 "nbformat": 4,
 "nbformat_minor": 2
}
