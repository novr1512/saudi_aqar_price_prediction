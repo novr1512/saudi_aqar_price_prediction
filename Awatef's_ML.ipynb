{
 "cells": [
  {
   "cell_type": "markdown",
   "metadata": {},
   "source": [
    "### Step1: Prerequest Libraries"
   ]
  },
  {
   "cell_type": "code",
   "execution_count": 434,
   "metadata": {},
   "outputs": [],
   "source": [
    "%%capture\n",
    "\n",
    "# data management\n",
    "! pip install -U pandas\n",
    "! pip install -U numpy\n",
    "\n",
    "# data visualization\n",
    "! pip install -U matplotlib\n",
    "! pip install -U plotnine\n",
    "\n",
    "# modeling\n",
    "! pip install -U scikit-learn"
   ]
  },
  {
   "cell_type": "code",
   "execution_count": 435,
   "metadata": {},
   "outputs": [
    {
     "data": {
      "text/plain": [
       "'1.0.2'"
      ]
     },
     "execution_count": 435,
     "metadata": {},
     "output_type": "execute_result"
    }
   ],
   "source": [
    "import pandas as pd\n",
    "import sklearn\n",
    "sklearn.__version__"
   ]
  },
  {
   "cell_type": "code",
   "execution_count": 436,
   "metadata": {},
   "outputs": [],
   "source": [
    "# Helper packages\n",
    "import numpy as np\n",
    "import pandas as pd\n",
    "import math\n",
    "from plotnine import ggplot, aes, geom_density, geom_line, geom_point, ggtitle\n",
    "\n",
    "# Modeling process\n",
    "from sklearn.model_selection import train_test_split, KFold, RepeatedKFold, cross_val_score\n",
    "from sklearn.model_selection import GridSearchCV\n",
    "from sklearn.neighbors import KNeighborsRegressor, KNeighborsClassifier\n",
    "from sklearn.metrics import mean_squared_error, roc_auc_score\n",
    "from sklearn.model_selection import train_test_split\n",
    "from sklearn import preprocessing\n",
    "from sklearn import compose\n",
    "from sklearn import cross_decomposition\n",
    "from sklearn import decomposition\n",
    "from sklearn import model_selection\n",
    "from sklearn import linear_model\n",
    "from sklearn import pipeline"
   ]
  },
  {
   "cell_type": "markdown",
   "metadata": {},
   "source": [
    "---\n",
    "\n",
    "### Step 2: Read Dataset\n",
    "| Reading .CSV file from local directory |"
   ]
  },
  {
   "cell_type": "code",
   "execution_count": 437,
   "metadata": {},
   "outputs": [
    {
     "data": {
      "text/html": [
       "<div>\n",
       "<style scoped>\n",
       "    .dataframe tbody tr th:only-of-type {\n",
       "        vertical-align: middle;\n",
       "    }\n",
       "\n",
       "    .dataframe tbody tr th {\n",
       "        vertical-align: top;\n",
       "    }\n",
       "\n",
       "    .dataframe thead th {\n",
       "        text-align: right;\n",
       "    }\n",
       "</style>\n",
       "<table border=\"1\" class=\"dataframe\">\n",
       "  <thead>\n",
       "    <tr style=\"text-align: right;\">\n",
       "      <th></th>\n",
       "      <th>Unnamed: 0</th>\n",
       "      <th>city</th>\n",
       "      <th>district</th>\n",
       "      <th>front</th>\n",
       "      <th>size</th>\n",
       "      <th>property_age</th>\n",
       "      <th>bedrooms</th>\n",
       "      <th>bathrooms</th>\n",
       "      <th>livingrooms</th>\n",
       "      <th>kitchen</th>\n",
       "      <th>...</th>\n",
       "      <th>roof</th>\n",
       "      <th>pool</th>\n",
       "      <th>frontyard</th>\n",
       "      <th>basement</th>\n",
       "      <th>duplex</th>\n",
       "      <th>stairs</th>\n",
       "      <th>elevator</th>\n",
       "      <th>fireplace</th>\n",
       "      <th>price</th>\n",
       "      <th>details</th>\n",
       "    </tr>\n",
       "  </thead>\n",
       "  <tbody>\n",
       "    <tr>\n",
       "      <th>0</th>\n",
       "      <td>521</td>\n",
       "      <td>الرياض</td>\n",
       "      <td>حي الجنادرية</td>\n",
       "      <td>شرق</td>\n",
       "      <td>246</td>\n",
       "      <td>0</td>\n",
       "      <td>5</td>\n",
       "      <td>5</td>\n",
       "      <td>2</td>\n",
       "      <td>1</td>\n",
       "      <td>...</td>\n",
       "      <td>0</td>\n",
       "      <td>0</td>\n",
       "      <td>0</td>\n",
       "      <td>0</td>\n",
       "      <td>0</td>\n",
       "      <td>1</td>\n",
       "      <td>0</td>\n",
       "      <td>0</td>\n",
       "      <td>40000</td>\n",
       "      <td>درج داخلي للايجار التوالصل 0538143083</td>\n",
       "    </tr>\n",
       "    <tr>\n",
       "      <th>1</th>\n",
       "      <td>1653</td>\n",
       "      <td>جدة</td>\n",
       "      <td>حي بريمان</td>\n",
       "      <td>جنوب</td>\n",
       "      <td>350</td>\n",
       "      <td>0</td>\n",
       "      <td>7</td>\n",
       "      <td>5</td>\n",
       "      <td>2</td>\n",
       "      <td>1</td>\n",
       "      <td>...</td>\n",
       "      <td>1</td>\n",
       "      <td>0</td>\n",
       "      <td>0</td>\n",
       "      <td>0</td>\n",
       "      <td>1</td>\n",
       "      <td>1</td>\n",
       "      <td>1</td>\n",
       "      <td>0</td>\n",
       "      <td>45000</td>\n",
       "      <td>فلة روف مكونه من٩غرف و٧حمامات وسطح مرة كبير ون...</td>\n",
       "    </tr>\n",
       "    <tr>\n",
       "      <th>2</th>\n",
       "      <td>131</td>\n",
       "      <td>الرياض</td>\n",
       "      <td>حي الرمال</td>\n",
       "      <td>جنوب</td>\n",
       "      <td>280</td>\n",
       "      <td>3</td>\n",
       "      <td>4</td>\n",
       "      <td>3</td>\n",
       "      <td>1</td>\n",
       "      <td>0</td>\n",
       "      <td>...</td>\n",
       "      <td>0</td>\n",
       "      <td>0</td>\n",
       "      <td>1</td>\n",
       "      <td>0</td>\n",
       "      <td>0</td>\n",
       "      <td>1</td>\n",
       "      <td>0</td>\n",
       "      <td>1</td>\n",
       "      <td>3300</td>\n",
       "      <td>درج داخلي للأيجار  شهري3300\\nالمواصفات \\nالأرض...</td>\n",
       "    </tr>\n",
       "    <tr>\n",
       "      <th>3</th>\n",
       "      <td>2284</td>\n",
       "      <td>الدمام</td>\n",
       "      <td>حي ضاحية الملك فهد</td>\n",
       "      <td>شمال</td>\n",
       "      <td>250</td>\n",
       "      <td>5</td>\n",
       "      <td>5</td>\n",
       "      <td>5</td>\n",
       "      <td>3</td>\n",
       "      <td>1</td>\n",
       "      <td>...</td>\n",
       "      <td>1</td>\n",
       "      <td>0</td>\n",
       "      <td>1</td>\n",
       "      <td>0</td>\n",
       "      <td>0</td>\n",
       "      <td>1</td>\n",
       "      <td>0</td>\n",
       "      <td>0</td>\n",
       "      <td>36000</td>\n",
       "      <td>للايجار فيلا دبلكس دورين وملحق في ضاحيه الملك ...</td>\n",
       "    </tr>\n",
       "    <tr>\n",
       "      <th>4</th>\n",
       "      <td>65</td>\n",
       "      <td>الرياض</td>\n",
       "      <td>حي الروضة</td>\n",
       "      <td>جنوب</td>\n",
       "      <td>352</td>\n",
       "      <td>30</td>\n",
       "      <td>7</td>\n",
       "      <td>5</td>\n",
       "      <td>2</td>\n",
       "      <td>1</td>\n",
       "      <td>...</td>\n",
       "      <td>1</td>\n",
       "      <td>0</td>\n",
       "      <td>1</td>\n",
       "      <td>0</td>\n",
       "      <td>0</td>\n",
       "      <td>1</td>\n",
       "      <td>0</td>\n",
       "      <td>1</td>\n",
       "      <td>80000</td>\n",
       "      <td>الجزء الثالث والاخير للتصوير\\n================...</td>\n",
       "    </tr>\n",
       "  </tbody>\n",
       "</table>\n",
       "<p>5 rows × 25 columns</p>\n",
       "</div>"
      ],
      "text/plain": [
       "   Unnamed: 0     city                district front  size  property_age  \\\n",
       "0         521   الرياض           حي الجنادرية    شرق   246             0   \n",
       "1        1653      جدة              حي بريمان   جنوب   350             0   \n",
       "2         131   الرياض              حي الرمال   جنوب   280             3   \n",
       "3        2284   الدمام     حي ضاحية الملك فهد   شمال   250             5   \n",
       "4          65   الرياض              حي الروضة   جنوب   352            30   \n",
       "\n",
       "   bedrooms  bathrooms  livingrooms  kitchen  ...  roof  pool  frontyard  \\\n",
       "0         5          5            2        1  ...     0     0          0   \n",
       "1         7          5            2        1  ...     1     0          0   \n",
       "2         4          3            1        0  ...     0     0          1   \n",
       "3         5          5            3        1  ...     1     0          1   \n",
       "4         7          5            2        1  ...     1     0          1   \n",
       "\n",
       "   basement  duplex  stairs  elevator  fireplace  price  \\\n",
       "0         0       0       1         0          0  40000   \n",
       "1         0       1       1         1          0  45000   \n",
       "2         0       0       1         0          1   3300   \n",
       "3         0       0       1         0          0  36000   \n",
       "4         0       0       1         0          1  80000   \n",
       "\n",
       "                                             details  \n",
       "0              درج داخلي للايجار التوالصل 0538143083  \n",
       "1  فلة روف مكونه من٩غرف و٧حمامات وسطح مرة كبير ون...  \n",
       "2  درج داخلي للأيجار  شهري3300\\nالمواصفات \\nالأرض...  \n",
       "3  للايجار فيلا دبلكس دورين وملحق في ضاحيه الملك ...  \n",
       "4  الجزء الثالث والاخير للتصوير\\n================...  \n",
       "\n",
       "[5 rows x 25 columns]"
      ]
     },
     "execution_count": 437,
     "metadata": {},
     "output_type": "execute_result"
    }
   ],
   "source": [
    "H_data = pd.read_csv('/Users/awatefalshehri/Misk_DSI_2021/AA_ML_assignment/saudi_aqar_price_prediction/housing.csv')\n",
    "\n",
    "# Initial dimensions\n",
    "H_data.shape\n",
    "\n",
    "H_data.head()"
   ]
  },
  {
   "cell_type": "markdown",
   "metadata": {},
   "source": [
    "---\n",
    "### Step 3: Clean the data"
   ]
  },
  {
   "cell_type": "code",
   "execution_count": 438,
   "metadata": {},
   "outputs": [],
   "source": [
    "def fixRent(details):\n",
    "    details =  str(details)\n",
    "    rent = \"Unkown\"\n",
    "    if( details.find('شهري') != -1 or details.find('بالشهر') != -1):\n",
    "        rent = 'Monthly'\n",
    "    elif( details.find('يومي') != -1 or details.find('باليوم') != -1 ):\n",
    "        rent = 'Daily'\n",
    "    else:\n",
    "        rent = 'Unkown'\n",
    "        \n",
    "    return rent\n",
    "\n",
    "H_data.loc[:,'rent frequnetly'] = H_data.loc[:,'details'].apply(fixRent)"
   ]
  },
  {
   "cell_type": "code",
   "execution_count": 439,
   "metadata": {},
   "outputs": [
    {
     "data": {
      "text/html": [
       "<div>\n",
       "<style scoped>\n",
       "    .dataframe tbody tr th:only-of-type {\n",
       "        vertical-align: middle;\n",
       "    }\n",
       "\n",
       "    .dataframe tbody tr th {\n",
       "        vertical-align: top;\n",
       "    }\n",
       "\n",
       "    .dataframe thead th {\n",
       "        text-align: right;\n",
       "    }\n",
       "</style>\n",
       "<table border=\"1\" class=\"dataframe\">\n",
       "  <thead>\n",
       "    <tr style=\"text-align: right;\">\n",
       "      <th></th>\n",
       "      <th>price</th>\n",
       "      <th>details</th>\n",
       "      <th>rent frequnetly</th>\n",
       "    </tr>\n",
       "  </thead>\n",
       "  <tbody>\n",
       "    <tr>\n",
       "      <th>0</th>\n",
       "      <td>40000</td>\n",
       "      <td>درج داخلي للايجار التوالصل 0538143083</td>\n",
       "      <td>Unkown</td>\n",
       "    </tr>\n",
       "    <tr>\n",
       "      <th>1</th>\n",
       "      <td>45000</td>\n",
       "      <td>فلة روف مكونه من٩غرف و٧حمامات وسطح مرة كبير ون...</td>\n",
       "      <td>Unkown</td>\n",
       "    </tr>\n",
       "    <tr>\n",
       "      <th>2</th>\n",
       "      <td>3300</td>\n",
       "      <td>درج داخلي للأيجار  شهري3300\\nالمواصفات \\nالأرض...</td>\n",
       "      <td>Monthly</td>\n",
       "    </tr>\n",
       "    <tr>\n",
       "      <th>3</th>\n",
       "      <td>36000</td>\n",
       "      <td>للايجار فيلا دبلكس دورين وملحق في ضاحيه الملك ...</td>\n",
       "      <td>Unkown</td>\n",
       "    </tr>\n",
       "    <tr>\n",
       "      <th>4</th>\n",
       "      <td>80000</td>\n",
       "      <td>الجزء الثالث والاخير للتصوير\\n================...</td>\n",
       "      <td>Unkown</td>\n",
       "    </tr>\n",
       "    <tr>\n",
       "      <th>...</th>\n",
       "      <td>...</td>\n",
       "      <td>...</td>\n",
       "      <td>...</td>\n",
       "    </tr>\n",
       "    <tr>\n",
       "      <th>2969</th>\n",
       "      <td>33000</td>\n",
       "      <td>دبلكس الاجار جديد ثلاثه ادوار الحي السابع كل ٦...</td>\n",
       "      <td>Unkown</td>\n",
       "    </tr>\n",
       "    <tr>\n",
       "      <th>2970</th>\n",
       "      <td>50000</td>\n",
       "      <td>فيلا دورين درج داخلي مجددة</td>\n",
       "      <td>Unkown</td>\n",
       "    </tr>\n",
       "    <tr>\n",
       "      <th>2971</th>\n",
       "      <td>37000</td>\n",
       "      <td>فلا للايجار فى الحي الخامس التاسع \\nتتكون ثلاث...</td>\n",
       "      <td>Unkown</td>\n",
       "    </tr>\n",
       "    <tr>\n",
       "      <th>2972</th>\n",
       "      <td>35000</td>\n",
       "      <td>فيلا للإيجار على زاوية\\nمطبخ راكب \\n٤ غرف نوم ...</td>\n",
       "      <td>Monthly</td>\n",
       "    </tr>\n",
       "    <tr>\n",
       "      <th>2973</th>\n",
       "      <td>80000</td>\n",
       "      <td>نظيفة للغاية ومجددة</td>\n",
       "      <td>Unkown</td>\n",
       "    </tr>\n",
       "  </tbody>\n",
       "</table>\n",
       "<p>2974 rows × 3 columns</p>\n",
       "</div>"
      ],
      "text/plain": [
       "      price                                            details rent frequnetly\n",
       "0     40000              درج داخلي للايجار التوالصل 0538143083          Unkown\n",
       "1     45000  فلة روف مكونه من٩غرف و٧حمامات وسطح مرة كبير ون...          Unkown\n",
       "2      3300  درج داخلي للأيجار  شهري3300\\nالمواصفات \\nالأرض...         Monthly\n",
       "3     36000  للايجار فيلا دبلكس دورين وملحق في ضاحيه الملك ...          Unkown\n",
       "4     80000  الجزء الثالث والاخير للتصوير\\n================...          Unkown\n",
       "...     ...                                                ...             ...\n",
       "2969  33000  دبلكس الاجار جديد ثلاثه ادوار الحي السابع كل ٦...          Unkown\n",
       "2970  50000                         فيلا دورين درج داخلي مجددة          Unkown\n",
       "2971  37000  فلا للايجار فى الحي الخامس التاسع \\nتتكون ثلاث...          Unkown\n",
       "2972  35000  فيلا للإيجار على زاوية\\nمطبخ راكب \\n٤ غرف نوم ...         Monthly\n",
       "2973  80000                                نظيفة للغاية ومجددة          Unkown\n",
       "\n",
       "[2974 rows x 3 columns]"
      ]
     },
     "execution_count": 439,
     "metadata": {},
     "output_type": "execute_result"
    }
   ],
   "source": [
    "H_data.loc[:,['price',\"details\",'rent frequnetly']]"
   ]
  },
  {
   "cell_type": "code",
   "execution_count": 440,
   "metadata": {},
   "outputs": [
    {
     "data": {
      "text/plain": [
       "rent frequnetly\n",
       "Daily         3\n",
       "Monthly      54\n",
       "Unkown     2917\n",
       "dtype: int64"
      ]
     },
     "execution_count": 440,
     "metadata": {},
     "output_type": "execute_result"
    }
   ],
   "source": [
    "H_data.groupby(['rent frequnetly']).size()"
   ]
  },
  {
   "cell_type": "code",
   "execution_count": 441,
   "metadata": {},
   "outputs": [
    {
     "data": {
      "text/html": [
       "<div>\n",
       "<style scoped>\n",
       "    .dataframe tbody tr th:only-of-type {\n",
       "        vertical-align: middle;\n",
       "    }\n",
       "\n",
       "    .dataframe tbody tr th {\n",
       "        vertical-align: top;\n",
       "    }\n",
       "\n",
       "    .dataframe thead th {\n",
       "        text-align: right;\n",
       "    }\n",
       "</style>\n",
       "<table border=\"1\" class=\"dataframe\">\n",
       "  <thead>\n",
       "    <tr style=\"text-align: right;\">\n",
       "      <th></th>\n",
       "      <th>Unnamed: 0</th>\n",
       "      <th>city</th>\n",
       "      <th>district</th>\n",
       "      <th>front</th>\n",
       "      <th>size</th>\n",
       "      <th>property_age</th>\n",
       "      <th>bedrooms</th>\n",
       "      <th>bathrooms</th>\n",
       "      <th>livingrooms</th>\n",
       "      <th>kitchen</th>\n",
       "      <th>...</th>\n",
       "      <th>pool</th>\n",
       "      <th>frontyard</th>\n",
       "      <th>basement</th>\n",
       "      <th>duplex</th>\n",
       "      <th>stairs</th>\n",
       "      <th>elevator</th>\n",
       "      <th>fireplace</th>\n",
       "      <th>price</th>\n",
       "      <th>details</th>\n",
       "      <th>rent frequnetly</th>\n",
       "    </tr>\n",
       "  </thead>\n",
       "  <tbody>\n",
       "    <tr>\n",
       "      <th>363</th>\n",
       "      <td>1100</td>\n",
       "      <td>جدة</td>\n",
       "      <td>حي الزمرد</td>\n",
       "      <td>شمال</td>\n",
       "      <td>350</td>\n",
       "      <td>0</td>\n",
       "      <td>4</td>\n",
       "      <td>4</td>\n",
       "      <td>1</td>\n",
       "      <td>1</td>\n",
       "      <td>...</td>\n",
       "      <td>1</td>\n",
       "      <td>1</td>\n",
       "      <td>0</td>\n",
       "      <td>0</td>\n",
       "      <td>1</td>\n",
       "      <td>0</td>\n",
       "      <td>0</td>\n",
       "      <td>3000</td>\n",
       "      <td>فيلا دورين مكونة من 4 غرف نوم و 4 دورات مياه و...</td>\n",
       "      <td>Daily</td>\n",
       "    </tr>\n",
       "    <tr>\n",
       "      <th>1279</th>\n",
       "      <td>1225</td>\n",
       "      <td>جدة</td>\n",
       "      <td>حي الشاطئ</td>\n",
       "      <td>غرب</td>\n",
       "      <td>350</td>\n",
       "      <td>2</td>\n",
       "      <td>3</td>\n",
       "      <td>4</td>\n",
       "      <td>2</td>\n",
       "      <td>1</td>\n",
       "      <td>...</td>\n",
       "      <td>1</td>\n",
       "      <td>1</td>\n",
       "      <td>0</td>\n",
       "      <td>1</td>\n",
       "      <td>1</td>\n",
       "      <td>0</td>\n",
       "      <td>0</td>\n",
       "      <td>2500</td>\n",
       "      <td>فيلا مؤثثه نظيفه جدا للايجار اليومي \\nبالسعر ا...</td>\n",
       "      <td>Daily</td>\n",
       "    </tr>\n",
       "    <tr>\n",
       "      <th>2411</th>\n",
       "      <td>1192</td>\n",
       "      <td>جدة</td>\n",
       "      <td>حي الزمرد</td>\n",
       "      <td>جنوب</td>\n",
       "      <td>550</td>\n",
       "      <td>7</td>\n",
       "      <td>4</td>\n",
       "      <td>4</td>\n",
       "      <td>3</td>\n",
       "      <td>1</td>\n",
       "      <td>...</td>\n",
       "      <td>1</td>\n",
       "      <td>1</td>\n",
       "      <td>0</td>\n",
       "      <td>1</td>\n",
       "      <td>0</td>\n",
       "      <td>0</td>\n",
       "      <td>1</td>\n",
       "      <td>2000</td>\n",
       "      <td>فيلا للايجار اليومي بخصوصية تامه</td>\n",
       "      <td>Daily</td>\n",
       "    </tr>\n",
       "  </tbody>\n",
       "</table>\n",
       "<p>3 rows × 26 columns</p>\n",
       "</div>"
      ],
      "text/plain": [
       "      Unnamed: 0  city       district front  size  property_age  bedrooms  \\\n",
       "363         1100   جدة     حي الزمرد   شمال   350             0         4   \n",
       "1279        1225   جدة     حي الشاطئ    غرب   350             2         3   \n",
       "2411        1192   جدة     حي الزمرد   جنوب   550             7         4   \n",
       "\n",
       "      bathrooms  livingrooms  kitchen  ...  pool  frontyard  basement  duplex  \\\n",
       "363           4            1        1  ...     1          1         0       0   \n",
       "1279          4            2        1  ...     1          1         0       1   \n",
       "2411          4            3        1  ...     1          1         0       1   \n",
       "\n",
       "      stairs  elevator  fireplace  price  \\\n",
       "363        1         0          0   3000   \n",
       "1279       1         0          0   2500   \n",
       "2411       0         0          1   2000   \n",
       "\n",
       "                                                details  rent frequnetly  \n",
       "363   فيلا دورين مكونة من 4 غرف نوم و 4 دورات مياه و...            Daily  \n",
       "1279  فيلا مؤثثه نظيفه جدا للايجار اليومي \\nبالسعر ا...            Daily  \n",
       "2411                   فيلا للايجار اليومي بخصوصية تامه            Daily  \n",
       "\n",
       "[3 rows x 26 columns]"
      ]
     },
     "execution_count": 441,
     "metadata": {},
     "output_type": "execute_result"
    }
   ],
   "source": [
    "H_data[H_data['rent frequnetly'] == 'Daily']"
   ]
  },
  {
   "cell_type": "markdown",
   "metadata": {},
   "source": [
    "---\n",
    "\n",
    "### Step 4: Features of the data"
   ]
  },
  {
   "cell_type": "code",
   "execution_count": 442,
   "metadata": {},
   "outputs": [
    {
     "data": {
      "text/html": [
       "<div>\n",
       "<style scoped>\n",
       "    .dataframe tbody tr th:only-of-type {\n",
       "        vertical-align: middle;\n",
       "    }\n",
       "\n",
       "    .dataframe tbody tr th {\n",
       "        vertical-align: top;\n",
       "    }\n",
       "\n",
       "    .dataframe thead th {\n",
       "        text-align: right;\n",
       "    }\n",
       "</style>\n",
       "<table border=\"1\" class=\"dataframe\">\n",
       "  <thead>\n",
       "    <tr style=\"text-align: right;\">\n",
       "      <th></th>\n",
       "      <th>Unnamed: 0</th>\n",
       "      <th>city</th>\n",
       "      <th>district</th>\n",
       "      <th>front</th>\n",
       "      <th>size</th>\n",
       "      <th>property_age</th>\n",
       "      <th>bedrooms</th>\n",
       "      <th>bathrooms</th>\n",
       "      <th>livingrooms</th>\n",
       "      <th>kitchen</th>\n",
       "      <th>...</th>\n",
       "      <th>roof</th>\n",
       "      <th>pool</th>\n",
       "      <th>frontyard</th>\n",
       "      <th>basement</th>\n",
       "      <th>duplex</th>\n",
       "      <th>stairs</th>\n",
       "      <th>elevator</th>\n",
       "      <th>fireplace</th>\n",
       "      <th>price</th>\n",
       "      <th>rent frequnetly</th>\n",
       "    </tr>\n",
       "  </thead>\n",
       "  <tbody>\n",
       "    <tr>\n",
       "      <th>0</th>\n",
       "      <td>521</td>\n",
       "      <td>الرياض</td>\n",
       "      <td>حي الجنادرية</td>\n",
       "      <td>شرق</td>\n",
       "      <td>246</td>\n",
       "      <td>0</td>\n",
       "      <td>5</td>\n",
       "      <td>5</td>\n",
       "      <td>2</td>\n",
       "      <td>1</td>\n",
       "      <td>...</td>\n",
       "      <td>0</td>\n",
       "      <td>0</td>\n",
       "      <td>0</td>\n",
       "      <td>0</td>\n",
       "      <td>0</td>\n",
       "      <td>1</td>\n",
       "      <td>0</td>\n",
       "      <td>0</td>\n",
       "      <td>40000</td>\n",
       "      <td>Unkown</td>\n",
       "    </tr>\n",
       "    <tr>\n",
       "      <th>1</th>\n",
       "      <td>1653</td>\n",
       "      <td>جدة</td>\n",
       "      <td>حي بريمان</td>\n",
       "      <td>جنوب</td>\n",
       "      <td>350</td>\n",
       "      <td>0</td>\n",
       "      <td>7</td>\n",
       "      <td>5</td>\n",
       "      <td>2</td>\n",
       "      <td>1</td>\n",
       "      <td>...</td>\n",
       "      <td>1</td>\n",
       "      <td>0</td>\n",
       "      <td>0</td>\n",
       "      <td>0</td>\n",
       "      <td>1</td>\n",
       "      <td>1</td>\n",
       "      <td>1</td>\n",
       "      <td>0</td>\n",
       "      <td>45000</td>\n",
       "      <td>Unkown</td>\n",
       "    </tr>\n",
       "    <tr>\n",
       "      <th>2</th>\n",
       "      <td>131</td>\n",
       "      <td>الرياض</td>\n",
       "      <td>حي الرمال</td>\n",
       "      <td>جنوب</td>\n",
       "      <td>280</td>\n",
       "      <td>3</td>\n",
       "      <td>4</td>\n",
       "      <td>3</td>\n",
       "      <td>1</td>\n",
       "      <td>0</td>\n",
       "      <td>...</td>\n",
       "      <td>0</td>\n",
       "      <td>0</td>\n",
       "      <td>1</td>\n",
       "      <td>0</td>\n",
       "      <td>0</td>\n",
       "      <td>1</td>\n",
       "      <td>0</td>\n",
       "      <td>1</td>\n",
       "      <td>3300</td>\n",
       "      <td>Monthly</td>\n",
       "    </tr>\n",
       "    <tr>\n",
       "      <th>3</th>\n",
       "      <td>2284</td>\n",
       "      <td>الدمام</td>\n",
       "      <td>حي ضاحية الملك فهد</td>\n",
       "      <td>شمال</td>\n",
       "      <td>250</td>\n",
       "      <td>5</td>\n",
       "      <td>5</td>\n",
       "      <td>5</td>\n",
       "      <td>3</td>\n",
       "      <td>1</td>\n",
       "      <td>...</td>\n",
       "      <td>1</td>\n",
       "      <td>0</td>\n",
       "      <td>1</td>\n",
       "      <td>0</td>\n",
       "      <td>0</td>\n",
       "      <td>1</td>\n",
       "      <td>0</td>\n",
       "      <td>0</td>\n",
       "      <td>36000</td>\n",
       "      <td>Unkown</td>\n",
       "    </tr>\n",
       "    <tr>\n",
       "      <th>4</th>\n",
       "      <td>65</td>\n",
       "      <td>الرياض</td>\n",
       "      <td>حي الروضة</td>\n",
       "      <td>جنوب</td>\n",
       "      <td>352</td>\n",
       "      <td>30</td>\n",
       "      <td>7</td>\n",
       "      <td>5</td>\n",
       "      <td>2</td>\n",
       "      <td>1</td>\n",
       "      <td>...</td>\n",
       "      <td>1</td>\n",
       "      <td>0</td>\n",
       "      <td>1</td>\n",
       "      <td>0</td>\n",
       "      <td>0</td>\n",
       "      <td>1</td>\n",
       "      <td>0</td>\n",
       "      <td>1</td>\n",
       "      <td>80000</td>\n",
       "      <td>Unkown</td>\n",
       "    </tr>\n",
       "  </tbody>\n",
       "</table>\n",
       "<p>5 rows × 25 columns</p>\n",
       "</div>"
      ],
      "text/plain": [
       "   Unnamed: 0     city                district front  size  property_age  \\\n",
       "0         521   الرياض           حي الجنادرية    شرق   246             0   \n",
       "1        1653      جدة              حي بريمان   جنوب   350             0   \n",
       "2         131   الرياض              حي الرمال   جنوب   280             3   \n",
       "3        2284   الدمام     حي ضاحية الملك فهد   شمال   250             5   \n",
       "4          65   الرياض              حي الروضة   جنوب   352            30   \n",
       "\n",
       "   bedrooms  bathrooms  livingrooms  kitchen  ...  roof  pool  frontyard  \\\n",
       "0         5          5            2        1  ...     0     0          0   \n",
       "1         7          5            2        1  ...     1     0          0   \n",
       "2         4          3            1        0  ...     0     0          1   \n",
       "3         5          5            3        1  ...     1     0          1   \n",
       "4         7          5            2        1  ...     1     0          1   \n",
       "\n",
       "   basement  duplex  stairs  elevator  fireplace  price  rent frequnetly  \n",
       "0         0       0       1         0          0  40000           Unkown  \n",
       "1         0       1       1         1          0  45000           Unkown  \n",
       "2         0       0       1         0          1   3300          Monthly  \n",
       "3         0       0       1         0          0  36000           Unkown  \n",
       "4         0       0       1         0          1  80000           Unkown  \n",
       "\n",
       "[5 rows x 25 columns]"
      ]
     },
     "execution_count": 442,
     "metadata": {},
     "output_type": "execute_result"
    }
   ],
   "source": [
    "# features\n",
    "H_data.drop(\"details\", axis=1).head()"
   ]
  },
  {
   "cell_type": "code",
   "execution_count": 443,
   "metadata": {},
   "outputs": [
    {
     "data": {
      "text/html": [
       "<div>\n",
       "<style scoped>\n",
       "    .dataframe tbody tr th:only-of-type {\n",
       "        vertical-align: middle;\n",
       "    }\n",
       "\n",
       "    .dataframe tbody tr th {\n",
       "        vertical-align: top;\n",
       "    }\n",
       "\n",
       "    .dataframe thead th {\n",
       "        text-align: right;\n",
       "    }\n",
       "</style>\n",
       "<table border=\"1\" class=\"dataframe\">\n",
       "  <thead>\n",
       "    <tr style=\"text-align: right;\">\n",
       "      <th></th>\n",
       "      <th>city</th>\n",
       "      <th>district</th>\n",
       "      <th>front</th>\n",
       "      <th>size</th>\n",
       "      <th>property_age</th>\n",
       "      <th>bedrooms</th>\n",
       "      <th>bathrooms</th>\n",
       "      <th>livingrooms</th>\n",
       "      <th>kitchen</th>\n",
       "      <th>garage</th>\n",
       "      <th>...</th>\n",
       "      <th>pool</th>\n",
       "      <th>frontyard</th>\n",
       "      <th>basement</th>\n",
       "      <th>duplex</th>\n",
       "      <th>stairs</th>\n",
       "      <th>elevator</th>\n",
       "      <th>fireplace</th>\n",
       "      <th>price</th>\n",
       "      <th>details</th>\n",
       "      <th>rent frequnetly</th>\n",
       "    </tr>\n",
       "  </thead>\n",
       "  <tbody>\n",
       "    <tr>\n",
       "      <th>0</th>\n",
       "      <td>الرياض</td>\n",
       "      <td>حي الجنادرية</td>\n",
       "      <td>شرق</td>\n",
       "      <td>246</td>\n",
       "      <td>0</td>\n",
       "      <td>5</td>\n",
       "      <td>5</td>\n",
       "      <td>2</td>\n",
       "      <td>1</td>\n",
       "      <td>1</td>\n",
       "      <td>...</td>\n",
       "      <td>0</td>\n",
       "      <td>0</td>\n",
       "      <td>0</td>\n",
       "      <td>0</td>\n",
       "      <td>1</td>\n",
       "      <td>0</td>\n",
       "      <td>0</td>\n",
       "      <td>40000</td>\n",
       "      <td>درج داخلي للايجار التوالصل 0538143083</td>\n",
       "      <td>Unkown</td>\n",
       "    </tr>\n",
       "    <tr>\n",
       "      <th>1</th>\n",
       "      <td>جدة</td>\n",
       "      <td>حي بريمان</td>\n",
       "      <td>جنوب</td>\n",
       "      <td>350</td>\n",
       "      <td>0</td>\n",
       "      <td>7</td>\n",
       "      <td>5</td>\n",
       "      <td>2</td>\n",
       "      <td>1</td>\n",
       "      <td>1</td>\n",
       "      <td>...</td>\n",
       "      <td>0</td>\n",
       "      <td>0</td>\n",
       "      <td>0</td>\n",
       "      <td>1</td>\n",
       "      <td>1</td>\n",
       "      <td>1</td>\n",
       "      <td>0</td>\n",
       "      <td>45000</td>\n",
       "      <td>فلة روف مكونه من٩غرف و٧حمامات وسطح مرة كبير ون...</td>\n",
       "      <td>Unkown</td>\n",
       "    </tr>\n",
       "    <tr>\n",
       "      <th>2</th>\n",
       "      <td>الرياض</td>\n",
       "      <td>حي الرمال</td>\n",
       "      <td>جنوب</td>\n",
       "      <td>280</td>\n",
       "      <td>3</td>\n",
       "      <td>4</td>\n",
       "      <td>3</td>\n",
       "      <td>1</td>\n",
       "      <td>0</td>\n",
       "      <td>1</td>\n",
       "      <td>...</td>\n",
       "      <td>0</td>\n",
       "      <td>1</td>\n",
       "      <td>0</td>\n",
       "      <td>0</td>\n",
       "      <td>1</td>\n",
       "      <td>0</td>\n",
       "      <td>1</td>\n",
       "      <td>3300</td>\n",
       "      <td>درج داخلي للأيجار  شهري3300\\nالمواصفات \\nالأرض...</td>\n",
       "      <td>Monthly</td>\n",
       "    </tr>\n",
       "    <tr>\n",
       "      <th>3</th>\n",
       "      <td>الدمام</td>\n",
       "      <td>حي ضاحية الملك فهد</td>\n",
       "      <td>شمال</td>\n",
       "      <td>250</td>\n",
       "      <td>5</td>\n",
       "      <td>5</td>\n",
       "      <td>5</td>\n",
       "      <td>3</td>\n",
       "      <td>1</td>\n",
       "      <td>1</td>\n",
       "      <td>...</td>\n",
       "      <td>0</td>\n",
       "      <td>1</td>\n",
       "      <td>0</td>\n",
       "      <td>0</td>\n",
       "      <td>1</td>\n",
       "      <td>0</td>\n",
       "      <td>0</td>\n",
       "      <td>36000</td>\n",
       "      <td>للايجار فيلا دبلكس دورين وملحق في ضاحيه الملك ...</td>\n",
       "      <td>Unkown</td>\n",
       "    </tr>\n",
       "    <tr>\n",
       "      <th>4</th>\n",
       "      <td>الرياض</td>\n",
       "      <td>حي الروضة</td>\n",
       "      <td>جنوب</td>\n",
       "      <td>352</td>\n",
       "      <td>30</td>\n",
       "      <td>7</td>\n",
       "      <td>5</td>\n",
       "      <td>2</td>\n",
       "      <td>1</td>\n",
       "      <td>1</td>\n",
       "      <td>...</td>\n",
       "      <td>0</td>\n",
       "      <td>1</td>\n",
       "      <td>0</td>\n",
       "      <td>0</td>\n",
       "      <td>1</td>\n",
       "      <td>0</td>\n",
       "      <td>1</td>\n",
       "      <td>80000</td>\n",
       "      <td>الجزء الثالث والاخير للتصوير\\n================...</td>\n",
       "      <td>Unkown</td>\n",
       "    </tr>\n",
       "  </tbody>\n",
       "</table>\n",
       "<p>5 rows × 25 columns</p>\n",
       "</div>"
      ],
      "text/plain": [
       "      city                district front  size  property_age  bedrooms  \\\n",
       "0   الرياض           حي الجنادرية    شرق   246             0         5   \n",
       "1      جدة              حي بريمان   جنوب   350             0         7   \n",
       "2   الرياض              حي الرمال   جنوب   280             3         4   \n",
       "3   الدمام     حي ضاحية الملك فهد   شمال   250             5         5   \n",
       "4   الرياض              حي الروضة   جنوب   352            30         7   \n",
       "\n",
       "   bathrooms  livingrooms  kitchen  garage  ...  pool  frontyard  basement  \\\n",
       "0          5            2        1       1  ...     0          0         0   \n",
       "1          5            2        1       1  ...     0          0         0   \n",
       "2          3            1        0       1  ...     0          1         0   \n",
       "3          5            3        1       1  ...     0          1         0   \n",
       "4          5            2        1       1  ...     0          1         0   \n",
       "\n",
       "   duplex  stairs  elevator  fireplace  price  \\\n",
       "0       0       1         0          0  40000   \n",
       "1       1       1         1          0  45000   \n",
       "2       0       1         0          1   3300   \n",
       "3       0       1         0          0  36000   \n",
       "4       0       1         0          1  80000   \n",
       "\n",
       "                                             details  rent frequnetly  \n",
       "0              درج داخلي للايجار التوالصل 0538143083           Unkown  \n",
       "1  فلة روف مكونه من٩غرف و٧حمامات وسطح مرة كبير ون...           Unkown  \n",
       "2  درج داخلي للأيجار  شهري3300\\nالمواصفات \\nالأرض...          Monthly  \n",
       "3  للايجار فيلا دبلكس دورين وملحق في ضاحيه الملك ...           Unkown  \n",
       "4  الجزء الثالث والاخير للتصوير\\n================...           Unkown  \n",
       "\n",
       "[5 rows x 25 columns]"
      ]
     },
     "execution_count": 443,
     "metadata": {},
     "output_type": "execute_result"
    }
   ],
   "source": [
    "H_data.drop(\"Unnamed: 0\", axis=1).head()"
   ]
  },
  {
   "cell_type": "code",
   "execution_count": 444,
   "metadata": {},
   "outputs": [
    {
     "data": {
      "text/plain": [
       "0    40000\n",
       "1    45000\n",
       "2     3300\n",
       "3    36000\n",
       "4    80000\n",
       "Name: price, dtype: int64"
      ]
     },
     "execution_count": 444,
     "metadata": {},
     "output_type": "execute_result"
    }
   ],
   "source": [
    "# Response variable\n",
    "H_data[\"price\"].head()"
   ]
  },
  {
   "cell_type": "markdown",
   "metadata": {},
   "source": [
    "---\n",
    "\n",
    "### Step 5: Data splitting"
   ]
  },
  {
   "cell_type": "code",
   "execution_count": 445,
   "metadata": {},
   "outputs": [
    {
     "data": {
      "text/plain": [
       "(1487, 26)"
      ]
     },
     "execution_count": 445,
     "metadata": {},
     "output_type": "execute_result"
    }
   ],
   "source": [
    "# create train/test split\n",
    "train, test = train_test_split(H_data, train_size=0.5, random_state=120)\n",
    "\n",
    "# dimensions of training data\n",
    "train.shape"
   ]
  },
  {
   "cell_type": "code",
   "execution_count": 446,
   "metadata": {},
   "outputs": [],
   "source": [
    "y = H_data[\"pool\"]\n",
    "train_strat, test_strat = train_test_split(H_data, train_size=0.3, random_state=123, stratify=y)"
   ]
  },
  {
   "cell_type": "code",
   "execution_count": 447,
   "metadata": {},
   "outputs": [
    {
     "data": {
      "text/plain": [
       "60000     0.088097\n",
       "80000     0.083389\n",
       "65000     0.065905\n",
       "90000     0.053800\n",
       "100000    0.051446\n",
       "            ...   \n",
       "330000    0.000336\n",
       "420000    0.000336\n",
       "38400     0.000336\n",
       "2500      0.000336\n",
       "66500     0.000336\n",
       "Name: price, Length: 101, dtype: float64"
      ]
     },
     "execution_count": 447,
     "metadata": {},
     "output_type": "execute_result"
    }
   ],
   "source": [
    "# response distribution for raw data\n",
    "H_data[\"price\"].value_counts(normalize=True)"
   ]
  },
  {
   "cell_type": "code",
   "execution_count": 448,
   "metadata": {},
   "outputs": [
    {
     "data": {
      "text/plain": [
       "KNeighborsRegressor(n_neighbors=10)"
      ]
     },
     "execution_count": 448,
     "metadata": {},
     "output_type": "execute_result"
    }
   ],
   "source": [
    "# separate features from labels\n",
    "X_train = train[[\"size\"]]\n",
    "y_train = train[\"price\"]\n",
    "\n",
    "# fit a KNN regression model with 10 neighbors\n",
    "knn = KNeighborsRegressor(n_neighbors=10)\n",
    "m1 = knn.fit(X_train, y_train)\n",
    "\n",
    "m1"
   ]
  },
  {
   "cell_type": "code",
   "execution_count": 449,
   "metadata": {},
   "outputs": [
    {
     "data": {
      "text/plain": [
       "array([90000., 95500., 65000., ..., 63300., 80200., 71900.])"
      ]
     },
     "execution_count": 449,
     "metadata": {},
     "output_type": "execute_result"
    }
   ],
   "source": [
    "m1.predict(X_train)"
   ]
  },
  {
   "cell_type": "markdown",
   "metadata": {},
   "source": [
    "---\n",
    "### Step 6: Evaluating models"
   ]
  },
  {
   "cell_type": "code",
   "execution_count": 450,
   "metadata": {},
   "outputs": [
    {
     "data": {
      "text/plain": [
       "3556337885.524546"
      ]
     },
     "execution_count": 450,
     "metadata": {},
     "output_type": "execute_result"
    }
   ],
   "source": [
    "pred = m1.predict(X_train)\n",
    "\n",
    "# compute MSE\n",
    "mse = mean_squared_error(y_train, pred)\n",
    "mse"
   ]
  },
  {
   "cell_type": "code",
   "execution_count": 451,
   "metadata": {},
   "outputs": [
    {
     "data": {
      "text/plain": [
       "59635.03907540051"
      ]
     },
     "execution_count": 451,
     "metadata": {},
     "output_type": "execute_result"
    }
   ],
   "source": [
    "# compute RMSE\n",
    "math.sqrt(mse)"
   ]
  },
  {
   "cell_type": "markdown",
   "metadata": {},
   "source": [
    "### Classification model"
   ]
  },
  {
   "cell_type": "code",
   "execution_count": 452,
   "metadata": {},
   "outputs": [
    {
     "data": {
      "text/plain": [
       "1.0"
      ]
     },
     "execution_count": 452,
     "metadata": {},
     "output_type": "execute_result"
    }
   ],
   "source": [
    "# convert response to binary ints\n",
    "train_strat[\"pool\"].replace(('Yes', 'No'), (1, 0), inplace=True)\n",
    "\n",
    "# separate features from labels\n",
    "X_train_strat = train_strat[[\"pool\"]]\n",
    "y_train_strat = np.array(train_strat[\"pool\"])\n",
    "\n",
    "# fit a KNN regression model with 10 neighbors\n",
    "knn2 = KNeighborsClassifier(n_neighbors=10)\n",
    "m2 = knn2.fit(X_train_strat, y_train_strat)\n",
    "\n",
    "# make predictions\n",
    "pred = m2.predict_proba(X_train_strat)\n",
    "\n",
    "# compute AUC\n",
    "roc_auc_score(y_train_strat, pred[:, 1])"
   ]
  },
  {
   "cell_type": "markdown",
   "metadata": {},
   "source": [
    "### Resampling"
   ]
  },
  {
   "cell_type": "code",
   "execution_count": 453,
   "metadata": {},
   "outputs": [
    {
     "data": {
      "text/plain": [
       "array([-62816.55483289, -52363.67143265, -52022.10764562, -94865.79483511,\n",
       "       -55647.67669282, -83476.98159196, -46498.74489718, -58214.87581552,\n",
       "       -41388.88529357, -46007.78490236])"
      ]
     },
     "execution_count": 453,
     "metadata": {},
     "output_type": "execute_result"
    }
   ],
   "source": [
    "# define loss function\n",
    "loss = 'neg_root_mean_squared_error'\n",
    "\n",
    "# create 10 fold CV object\n",
    "kfold = KFold(n_splits=10, random_state=125, shuffle=True)\n",
    "\n",
    "# fit model with 10-fold CV\n",
    "results = cross_val_score(m1, X_train, y_train, cv=kfold, scoring=loss)\n",
    "results"
   ]
  },
  {
   "cell_type": "code",
   "execution_count": 454,
   "metadata": {},
   "outputs": [
    {
     "data": {
      "text/plain": [
       "-59330.307793969034"
      ]
     },
     "execution_count": 454,
     "metadata": {},
     "output_type": "execute_result"
    }
   ],
   "source": [
    "results.mean()"
   ]
  },
  {
   "cell_type": "code",
   "execution_count": 455,
   "metadata": {},
   "outputs": [
    {
     "data": {
      "text/plain": [
       "array([-62816.55483289, -52363.67143265, -52022.10764562, -94865.79483511,\n",
       "       -55647.67669282, -83476.98159196, -46498.74489718, -58214.87581552,\n",
       "       -41388.88529357, -46007.78490236, -51238.36703791, -68676.93556201,\n",
       "       -73706.10963812, -55633.09651806, -71601.29699624, -71015.83163128,\n",
       "       -41659.88932644, -56361.43838798, -58761.99281849, -63794.40167682,\n",
       "       -51779.72449351, -70963.45934173, -43256.07758051, -49131.10550887,\n",
       "       -73315.74800388, -91889.28106877, -51141.60817027, -86936.2068404 ,\n",
       "       -38442.53178447, -39662.9348555 , -39498.61850443, -49469.30264343,\n",
       "       -75549.24412207, -57750.76152495, -41043.3115336 , -74936.49968182,\n",
       "       -68872.42384736, -42071.51477833, -95599.75497537, -41623.27886223,\n",
       "       -36052.39737349, -64655.16733607, -64591.25460652, -44115.5314156 ,\n",
       "       -68101.68915013, -37925.93332568, -76435.322973  , -61592.90091047,\n",
       "       -49805.96477358, -94737.63758134])"
      ]
     },
     "execution_count": 455,
     "metadata": {},
     "output_type": "execute_result"
    }
   ],
   "source": [
    "# 10 fold cross validation repated 5 times (total of 50 folds)\n",
    "rfk = RepeatedKFold(n_splits=10, n_repeats=5, random_state=125)\n",
    "results = cross_val_score(m1, X_train, y_train, cv=rfk, scoring=loss)\n",
    "results"
   ]
  },
  {
   "cell_type": "code",
   "execution_count": 456,
   "metadata": {},
   "outputs": [
    {
     "data": {
      "text/plain": [
       "-59733.99250200843"
      ]
     },
     "execution_count": 456,
     "metadata": {},
     "output_type": "execute_result"
    }
   ],
   "source": [
    "# average RMSE across all 50 folds\n",
    "results.mean()"
   ]
  },
  {
   "cell_type": "markdown",
   "metadata": {},
   "source": [
    "## Hyperparameter tuning"
   ]
  },
  {
   "cell_type": "code",
   "execution_count": 483,
   "metadata": {},
   "outputs": [
    {
     "data": {
      "text/plain": [
       "58974.23690989074"
      ]
     },
     "execution_count": 483,
     "metadata": {},
     "output_type": "execute_result"
    }
   ],
   "source": [
    "# basic model object\n",
    "knn = KNeighborsRegressor()\n",
    "\n",
    "# Create grid of hyperparameter values\n",
    "hyper_grid = {'n_neighbors': range(2, 25)}\n",
    "\n",
    "# Tune a knn model using grid search\n",
    "grid_search = GridSearchCV(knn, hyper_grid, cv=kfold, scoring=loss)\n",
    "results = grid_search.fit(X_train, y_train)\n",
    "\n",
    "# Best model's cross validated RMSE\n",
    "abs(results.best_score_)"
   ]
  },
  {
   "cell_type": "code",
   "execution_count": 484,
   "metadata": {},
   "outputs": [
    {
     "data": {
      "text/plain": [
       "12"
      ]
     },
     "execution_count": 484,
     "metadata": {},
     "output_type": "execute_result"
    }
   ],
   "source": [
    "# Best model's k value\n",
    "results.best_estimator_.get_params().get('n_neighbors')"
   ]
  },
  {
   "cell_type": "code",
   "execution_count": 486,
   "metadata": {},
   "outputs": [
    {
     "data": {
      "image/png": "[encoded data removed]",
      "text/plain": [
       "<Figure size 640x480 with 1 Axes>"
      ]
     },
     "metadata": {},
     "output_type": "display_data"
    },
    {
     "data": {
      "text/plain": [
       "<ggplot: (8775421009655)>"
      ]
     },
     "execution_count": 486,
     "metadata": {},
     "output_type": "execute_result"
    }
   ],
   "source": [
    "# Plot all RMSE results\n",
    "all_rmse = pd.DataFrame({'k': range(2, 25), \n",
    "                         'RMSE': np.abs(results.cv_results_['mean_test_score'])})\n",
    "\n",
    "(ggplot(all_rmse, aes(x='k', y='RMSE'))\n",
    " + geom_line()\n",
    " + geom_point()\n",
    " + ggtitle(\"Cross validated grid search results\"))"
   ]
  },
  {
   "cell_type": "markdown",
   "metadata": {},
   "source": [
    "## Putting the processes together"
   ]
  },
  {
   "cell_type": "code",
   "execution_count": 488,
   "metadata": {},
   "outputs": [
    {
     "data": {
      "text/plain": [
       "64429.73541913981"
      ]
     },
     "execution_count": 488,
     "metadata": {},
     "output_type": "execute_result"
    }
   ],
   "source": [
    "# create train/test split\n",
    "train, test = train_test_split(H_data, train_size=0.6, random_state=125)\n",
    "\n",
    "# separate features from labels and only use numeric features\n",
    "X_train = train.select_dtypes(include='number').drop(\"price\", axis=1)\n",
    "y_train = train[\"price\"]\n",
    "\n",
    "# create KNN model object\n",
    "knn = KNeighborsRegressor()\n",
    "\n",
    "# define loss function\n",
    "loss = 'neg_root_mean_squared_error'\n",
    "\n",
    "# create 10 fold CV object\n",
    "kfold = KFold(n_splits=10, random_state=125, shuffle=True)\n",
    "\n",
    "# Create grid of hyperparameter values\n",
    "hyper_grid = {'n_neighbors': range(2, 25)}\n",
    "\n",
    "# Tune a knn model using grid search\n",
    "grid_search = GridSearchCV(knn, hyper_grid, cv=kfold, scoring=loss)\n",
    "results = grid_search.fit(X_train, y_train)\n",
    "\n",
    "# Best model's cross validated RMSE\n",
    "abs(results.best_score_)"
   ]
  },
  {
   "cell_type": "code",
   "execution_count": 489,
   "metadata": {},
   "outputs": [
    {
     "data": {
      "text/plain": [
       "24"
      ]
     },
     "execution_count": 489,
     "metadata": {},
     "output_type": "execute_result"
    }
   ],
   "source": [
    "# Best model's k value\n",
    "results.best_estimator_.get_params().get('n_neighbors')"
   ]
  },
  {
   "cell_type": "code",
   "execution_count": 492,
   "metadata": {},
   "outputs": [
    {
     "data": {
      "image/png": "[encoded data removed]",
      "text/plain": [
       "<Figure size 640x480 with 1 Axes>"
      ]
     },
     "metadata": {},
     "output_type": "display_data"
    },
    {
     "data": {
      "text/plain": [
       "<ggplot: (8775421266679)>"
      ]
     },
     "execution_count": 492,
     "metadata": {},
     "output_type": "execute_result"
    }
   ],
   "source": [
    "# Plot all RMSE results\n",
    "all_rmse = pd.DataFrame({'k': range(2, 25), \n",
    "                         'RMSE': np.abs(results.cv_results_['mean_test_score'])})\n",
    "\n",
    "(ggplot(all_rmse, aes(x='k', y='RMSE'))\n",
    " + geom_line()\n",
    " + geom_point()\n",
    " + ggtitle(\"Cross validated grid search results\"))"
   ]
  },
  {
   "cell_type": "code",
   "execution_count": 493,
   "metadata": {},
   "outputs": [],
   "source": [
    "# Saudi Aqar housing data\n",
    "# ames = pd.read_csv(\"../data/housing.csv\")\n",
    "\n",
    "# create train/test split\n",
    "train, test = train_test_split(H_data, train_size=0.7, random_state=123)\n",
    "\n",
    "# separate features from labels and only use numeric features\n",
    "X_train = train.drop(\"price\", axis=1)\n",
    "y_train = train[[\"price\"]]"
   ]
  },
  {
   "cell_type": "markdown",
   "metadata": {},
   "source": [
    "## Simple linear regression"
   ]
  },
  {
   "cell_type": "code",
   "execution_count": 494,
   "metadata": {},
   "outputs": [],
   "source": [
    "# create linear regression model object\n",
    "lm_mod = linear_model.LinearRegression()\n",
    "\n",
    "# fit linear model with only pool feature\n",
    "lm_fit = lm_mod.fit(X_train[[\"pool\"]], y_train)"
   ]
  },
  {
   "cell_type": "code",
   "execution_count": 495,
   "metadata": {},
   "outputs": [
    {
     "data": {
      "text/plain": [
       "array([79154.85436893])"
      ]
     },
     "execution_count": 495,
     "metadata": {},
     "output_type": "execute_result"
    }
   ],
   "source": [
    "# intercept\n",
    "lm_fit.intercept_"
   ]
  },
  {
   "cell_type": "code",
   "execution_count": 496,
   "metadata": {},
   "outputs": [
    {
     "data": {
      "text/plain": [
       "array([[48839.08502501]])"
      ]
     },
     "execution_count": 496,
     "metadata": {},
     "output_type": "execute_result"
    }
   ],
   "source": [
    "# coefficient for pool\n",
    "lm_fit.coef_"
   ]
  },
  {
   "cell_type": "markdown",
   "metadata": {},
   "source": [
    "### Interactions"
   ]
  },
  {
   "cell_type": "code",
   "execution_count": 498,
   "metadata": {},
   "outputs": [],
   "source": [
    "# create linear regression model object\n",
    "lm_mod = linear_model.LinearRegression()\n",
    "\n",
    "# use PolynomialFeatures to create main pool and roof effects and\n",
    "# also an interaction effect between pool & roof\n",
    "effects = preprocessing.PolynomialFeatures(\n",
    "  interaction_only=True,\n",
    "  include_bias=False\n",
    "  )\n",
    "features = effects.fit_transform(X_train[[\"pool\", \"roof\"]])\n",
    "\n",
    "# fit linear model with only pool and roof feature and\n",
    "# also include an interaction effect (pool:roof)\n",
    "lm_fit = lm_mod.fit(features, y_train)"
   ]
  },
  {
   "cell_type": "code",
   "execution_count": 499,
   "metadata": {},
   "outputs": [
    {
     "data": {
      "text/plain": [
       "array([[27925.47245678, -5386.58466542, 45156.58466542]])"
      ]
     },
     "execution_count": 499,
     "metadata": {},
     "output_type": "execute_result"
    }
   ],
   "source": [
    "# coefficients for pool, roof effects and the interaction \n",
    "# effect between pool & roof\n",
    "lm_fit.coef_"
   ]
  },
  {
   "cell_type": "markdown",
   "metadata": {},
   "source": [
    "## Assessing model accuracy"
   ]
  },
  {
   "cell_type": "code",
   "execution_count": 500,
   "metadata": {},
   "outputs": [],
   "source": [
    "# feature sets to compare across\n",
    "feature_set1 = X_train[[\"pool\"]]\n",
    "feature_set2 = X_train[[\"pool\", \"roof\"]]\n",
    "#feature_set3 = X_train_encoded\n",
    "feature_sets = {'lm1': feature_set1, 'lm2': feature_set2}\n",
    "\n",
    "# define loss function\n",
    "loss = 'neg_root_mean_squared_error'\n",
    "\n",
    "# create 10 fold CV object\n",
    "kfold = model_selection.KFold(n_splits=10, random_state=8451, shuffle=True)\n",
    "\n",
    "# object to store CV RMSE results\n",
    "results = {}\n",
    "\n",
    "for name, feat in feature_sets.items():\n",
    "  # create LM model object\n",
    "  lm_mod = linear_model.LinearRegression()\n",
    "\n",
    "  # execute and score the cross validation procedure\n",
    "  cv_results = model_selection.cross_val_score(\n",
    "    estimator=lm_mod, \n",
    "    X=feat, \n",
    "    y=y_train, \n",
    "    cv=kfold, \n",
    "    scoring=loss\n",
    "    )\n",
    "  results[name] = np.absolute(cv_results.mean())"
   ]
  },
  {
   "cell_type": "code",
   "execution_count": 501,
   "metadata": {},
   "outputs": [
    {
     "data": {
      "text/plain": [
       "{'lm1': 67179.93754598113, 'lm2': 67209.97272818911}"
      ]
     },
     "execution_count": 501,
     "metadata": {},
     "output_type": "execute_result"
    }
   ],
   "source": [
    "results"
   ]
  }
 ],
 "metadata": {
  "interpreter": {
   "hash": "aee8b7b246df8f9039afb4144a1f6fd8d2ca17a180786b69acc140d282b71a49"
  },
  "kernelspec": {
   "display_name": "Python 3.9.9 64-bit",
   "language": "python",
   "name": "python3"
  },
  "language_info": {
   "codemirror_mode": {
    "name": "ipython",
    "version": 3
   },
   "file_extension": ".py",
   "mimetype": "text/x-python",
   "name": "python",
   "nbconvert_exporter": "python",
   "pygments_lexer": "ipython3",
   "version": "3.9.9"
  },
  "orig_nbformat": 4
 },
 "nbformat": 4,
 "nbformat_minor": 2
}
